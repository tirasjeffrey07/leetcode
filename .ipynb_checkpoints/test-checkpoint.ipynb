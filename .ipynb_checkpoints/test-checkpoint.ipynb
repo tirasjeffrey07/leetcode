{
 "cells": [
  {
   "cell_type": "code",
   "execution_count": 39,
   "metadata": {},
   "outputs": [
    {
     "data": {
      "text/plain": [
       "[1, 1, 2, 2, 2, 3, 3, 3, 3, 4, 4, 5, 5, 5, 6, 7]"
      ]
     },
     "execution_count": 39,
     "metadata": {},
     "output_type": "execute_result"
    }
   ],
   "source": [
    "nums = [1,1,2,2,2,3,3,3,3,4,4,5,5,5,6,7]\n",
    "nums"
   ]
  },
  {
   "cell_type": "code",
   "execution_count": 40,
   "metadata": {},
   "outputs": [
    {
     "ename": "KeyboardInterrupt",
     "evalue": "",
     "output_type": "error",
     "traceback": [
      "\u001b[1;31m---------------------------------------------------------------------------\u001b[0m",
      "\u001b[1;31mKeyboardInterrupt\u001b[0m                         Traceback (most recent call last)",
      "Cell \u001b[1;32mIn[40], line 1\u001b[0m\n\u001b[1;32m----> 1\u001b[0m \u001b[38;5;28;01mwhile\u001b[39;00m \u001b[38;5;28;01mTrue\u001b[39;00m:\n\u001b[0;32m      2\u001b[0m     \u001b[38;5;28;01mpass\u001b[39;00m\n",
      "\u001b[1;31mKeyboardInterrupt\u001b[0m: "
     ]
    }
   ],
   "source": [
    "while True:\n",
    "    pass"
   ]
  },
  {
   "cell_type": "code",
   "execution_count": 3,
   "metadata": {},
   "outputs": [
    {
     "data": {
      "text/plain": [
       "Counter({3: 4, 2: 3, 5: 3, 1: 2, 4: 2, 6: 1, 7: 1})"
      ]
     },
     "execution_count": 3,
     "metadata": {},
     "output_type": "execute_result"
    }
   ],
   "source": [
    "from collections import Counter\n",
    "\n",
    "newNums = Counter(nums)\n",
    "newNums"
   ]
  },
  {
   "cell_type": "code",
   "execution_count": 4,
   "metadata": {},
   "outputs": [
    {
     "data": {
      "text/plain": [
       "14"
      ]
     },
     "execution_count": 4,
     "metadata": {},
     "output_type": "execute_result"
    }
   ],
   "source": [
    "number = 0\n",
    "\n",
    "for k, v in newNums.items():\n",
    "    if v > 1:\n",
    "        number += (v * (v - 1)) // 2\n",
    "number"
   ]
  },
  {
   "cell_type": "code",
   "execution_count": 5,
   "metadata": {},
   "outputs": [],
   "source": [
    "res = []\n",
    "n = 6\n",
    "for i in range(n-2):\n",
    "    res.append([0] * (n-2))"
   ]
  },
  {
   "cell_type": "code",
   "execution_count": 6,
   "metadata": {},
   "outputs": [
    {
     "data": {
      "text/plain": [
       "[[0, 0, 0, 0], [0, 0, 0, 0], [0, 0, 0, 0], [0, 0, 0, 0]]"
      ]
     },
     "execution_count": 6,
     "metadata": {},
     "output_type": "execute_result"
    }
   ],
   "source": [
    "res"
   ]
  },
  {
   "cell_type": "code",
   "execution_count": 7,
   "metadata": {},
   "outputs": [],
   "source": [
    "def largestLocal(grid: list[list[int]]) -> list[list[int]]:\n",
    "        n = len(grid[0])\n",
    "        res = [[0] * (n-2) for _ in range(n-2)]\n",
    "        \n",
    "        def findMax(i:int, j:int,  mat: list[list[int]]) -> int:\n",
    "            maxVal = 0\n",
    "            for r in range(i, i+3):\n",
    "                print(\"Row:\", r)\n",
    "                for c in range(j, j+3):\n",
    "                    print(\"Column: {}, Element: {}, Max: {}\".format( c, grid[r][c], maxVal))\n",
    "                    maxVal = max(maxVal, grid[r][c])\n",
    "            return maxVal\n",
    "        \n",
    "        for i in range(0, n-2):\n",
    "            for j in range(0, n-2): \n",
    "                res[i][j] = findMax(i, j, grid)\n",
    "\n",
    "        return res"
   ]
  },
  {
   "cell_type": "code",
   "execution_count": 8,
   "metadata": {},
   "outputs": [
    {
     "name": "stdout",
     "output_type": "stream",
     "text": [
      "Row: 0\n",
      "Column: 0, Element: 9, Max: 0\n",
      "Column: 1, Element: 9, Max: 9\n",
      "Column: 2, Element: 8, Max: 9\n",
      "Row: 1\n",
      "Column: 0, Element: 5, Max: 9\n",
      "Column: 1, Element: 6, Max: 9\n",
      "Column: 2, Element: 2, Max: 9\n",
      "Row: 2\n",
      "Column: 0, Element: 8, Max: 9\n",
      "Column: 1, Element: 2, Max: 9\n",
      "Column: 2, Element: 6, Max: 9\n",
      "Row: 0\n",
      "Column: 1, Element: 9, Max: 0\n",
      "Column: 2, Element: 8, Max: 9\n",
      "Column: 3, Element: 1, Max: 9\n",
      "Row: 1\n",
      "Column: 1, Element: 6, Max: 9\n",
      "Column: 2, Element: 2, Max: 9\n",
      "Column: 3, Element: 6, Max: 9\n",
      "Row: 2\n",
      "Column: 1, Element: 2, Max: 9\n",
      "Column: 2, Element: 6, Max: 9\n",
      "Column: 3, Element: 4, Max: 9\n",
      "Row: 1\n",
      "Column: 0, Element: 5, Max: 0\n",
      "Column: 1, Element: 6, Max: 5\n",
      "Column: 2, Element: 2, Max: 6\n",
      "Row: 2\n",
      "Column: 0, Element: 8, Max: 6\n",
      "Column: 1, Element: 2, Max: 8\n",
      "Column: 2, Element: 6, Max: 8\n",
      "Row: 3\n",
      "Column: 0, Element: 6, Max: 8\n",
      "Column: 1, Element: 2, Max: 8\n",
      "Column: 2, Element: 2, Max: 8\n",
      "Row: 1\n",
      "Column: 1, Element: 6, Max: 0\n",
      "Column: 2, Element: 2, Max: 6\n",
      "Column: 3, Element: 6, Max: 6\n",
      "Row: 2\n",
      "Column: 1, Element: 2, Max: 6\n",
      "Column: 2, Element: 6, Max: 6\n",
      "Column: 3, Element: 4, Max: 6\n",
      "Row: 3\n",
      "Column: 1, Element: 2, Max: 6\n",
      "Column: 2, Element: 2, Max: 6\n",
      "Column: 3, Element: 2, Max: 6\n"
     ]
    },
    {
     "data": {
      "text/plain": [
       "[[9, 9], [8, 6]]"
      ]
     },
     "execution_count": 8,
     "metadata": {},
     "output_type": "execute_result"
    }
   ],
   "source": [
    "largestLocal([[9,9,8,1],[5,6,2,6],[8,2,6,4],[6,2,2,2]])"
   ]
  },
  {
   "cell_type": "code",
   "execution_count": 14,
   "metadata": {},
   "outputs": [],
   "source": [
    "def addBinary(a: str, b: str) -> str:\n",
    "        \n",
    "        if a == \"0\":\n",
    "            return b\n",
    "        if b == \"0\":\n",
    "            return a\n",
    "\n",
    "        sum = \"\"\n",
    "        i = 0\n",
    "        carry = 0\n",
    "        \n",
    "        # 1 1 0 1\n",
    "        #   1 1 1\n",
    "\n",
    "        diff = max(len(b), len(a)) - min(len(a), len(b))\n",
    "        \n",
    "        if len(b) < len(a):\n",
    "            b = str(\"0\" * diff) +  b\n",
    "        elif len(a) < len(b):\n",
    "            a = str(\"0\" * diff) + a\n",
    "\n",
    "        a = a[::-1]\n",
    "        b = b[::-1]\n",
    "        \n",
    "        while i < len(a):\n",
    "            # 1 + 1\n",
    "            if int(a[i]) + int(b[i]) == 2:\n",
    "                \n",
    "                # with carry\n",
    "                if carry == 1:\n",
    "                    sum += '1'     \n",
    "                \n",
    "                # without carry\n",
    "                else:\n",
    "                    sum += '0'               \n",
    "                # updating next carry\n",
    "                carry = 1\n",
    "            \n",
    "            # 0 + 1\n",
    "            if int(a[i]) + int(b[i]) == 1:\n",
    "                if carry == 1:\n",
    "                    sum += '0'\n",
    "                    carry = 1\n",
    "                else:\n",
    "                    sum.append(1)\n",
    "                    carry = 0\n",
    "            # 0 + 0\n",
    "            if int(a[i]) + int(b[i]) == 0:\n",
    "                if carry == 1:\n",
    "                    sum += '1'\n",
    "                else:\n",
    "                    sum += '0'\n",
    "            i += 1\n",
    "\n",
    "        if carry == 1:\n",
    "            sum += '1'\n",
    "\n",
    "        return sum[::-1]"
   ]
  },
  {
   "cell_type": "code",
   "execution_count": 15,
   "metadata": {},
   "outputs": [
    {
     "data": {
      "text/plain": [
       "'100100'"
      ]
     },
     "execution_count": 15,
     "metadata": {},
     "output_type": "execute_result"
    }
   ],
   "source": [
    "addBinary(\"11101\",\"111\")"
   ]
  },
  {
   "cell_type": "code",
   "execution_count": 24,
   "metadata": {},
   "outputs": [],
   "source": [
    "def addBinaryShortcut(a:str, b:str) -> str:\n",
    "    print(int(a), int(b))\n",
    "    return bin(int(a,2) + int(b,2))[2:]"
   ]
  },
  {
   "cell_type": "code",
   "execution_count": 25,
   "metadata": {},
   "outputs": [
    {
     "name": "stdout",
     "output_type": "stream",
     "text": [
      "11101 111\n"
     ]
    },
    {
     "data": {
      "text/plain": [
       "'100100'"
      ]
     },
     "execution_count": 25,
     "metadata": {},
     "output_type": "execute_result"
    }
   ],
   "source": [
    "addBinaryShortcut(\"11101\", \"111\")"
   ]
  },
  {
   "cell_type": "code",
   "execution_count": 37,
   "metadata": {},
   "outputs": [],
   "source": [
    "def match(s) -> bool:\n",
    "    stack = []\n",
    "    \n",
    "    for char in s:\n",
    "        if char == \"{\":\n",
    "            stack.append(\"}\")\n",
    "        elif char == \"[\":\n",
    "            stack.append(\"]\")\n",
    "        elif char == \"(\":\n",
    "            stack.append(\")\")\n",
    "        \n",
    "        elif not stack or stack.pop() == char:\n",
    "            return False\n",
    "            \n",
    "    if len(stack) > 0:\n",
    "        return False\n",
    "    return True"
   ]
  },
  {
   "cell_type": "code",
   "execution_count": 38,
   "metadata": {},
   "outputs": [
    {
     "data": {
      "text/plain": [
       "False"
      ]
     },
     "execution_count": 38,
     "metadata": {},
     "output_type": "execute_result"
    }
   ],
   "source": [
    "match(\"(])\")"
   ]
  },
  {
   "cell_type": "code",
   "execution_count": 51,
   "metadata": {},
   "outputs": [
    {
     "name": "stdout",
     "output_type": "stream",
     "text": [
      "False\n",
      "False\n",
      "False\n",
      "False\n"
     ]
    },
    {
     "data": {
      "text/plain": [
       "[[...], [...], [...], [...]]"
      ]
     },
     "execution_count": 51,
     "metadata": {},
     "output_type": "execute_result"
    }
   ],
   "source": [
    "check = dict({\n",
    "            \")\" : \"(\",\n",
    "            \"}\" : \"{\",\n",
    "            \"]\" : \"[\"\n",
    "        }) \n",
    "\n",
    "s = \"{}()[]{}\"\n",
    "stack = []\n",
    "for char in s:\n",
    "    if char not in check:\n",
    "        stack.append(stack)\n",
    "    elif stack:\n",
    "        if check[char] != stack[-1]:\n",
    "            print(False)\n",
    "stack"
   ]
  },
  {
   "cell_type": "code",
   "execution_count": 24,
   "metadata": {},
   "outputs": [],
   "source": [
    "def isSameTree( p, q) -> bool:\n",
    "        \n",
    "    # firstTree = []\n",
    "    # secondTree = [] \n",
    "    \n",
    "    def inOrder(node, arr = []):\n",
    "        if not node:\n",
    "            arr.append(None)\n",
    "            return\n",
    "    \n",
    "        inOrder(node.left)\n",
    "        arr.append(node.val)\n",
    "        inOrder(node.right)\n",
    "        \n",
    "        return arr\n",
    "\n",
    "    print(\"Tree 1:\\n\" + str(inOrder(p)) + \"\\nTree2\\n\" + str(inOrder(q)))\n",
    "        "
   ]
  },
  {
   "cell_type": "code",
   "execution_count": 26,
   "metadata": {},
   "outputs": [
    {
     "name": "stdout",
     "output_type": "stream",
     "text": [
      "Tree 1:\n",
      "[None, 17, None, 13, None, 18, None, 12, None, 15, None, 14, None, 16, None]\n",
      "Tree2\n",
      "[None, 17, None, 13, None, 18, None, 12, None, 15, None, 14, None, 16, None, None, 23, None, 21, None, 24, None, 20, None, 25, None, 22, None, 26, None]\n"
     ]
    }
   ],
   "source": [
    "class TreeNode:\n",
    "    def __init__(self, val=0, left=None, right=None):\n",
    "        self.val = val\n",
    "        self.left = left\n",
    "        self.right = right\n",
    "\n",
    "node1 = TreeNode(val = 12)\n",
    "node2 = TreeNode(val = 13)\n",
    "node3 = TreeNode(val = 14)\n",
    "node4 = TreeNode(val = 15)\n",
    "node5 = TreeNode(val = 16)\n",
    "node6 = TreeNode(val = 17)\n",
    "\n",
    "\n",
    "node7 = TreeNode(val = 20)\n",
    "node8 = TreeNode(val = 21)\n",
    "node9 = TreeNode(val = 22)\n",
    "node10 = TreeNode(val = 23)\n",
    "node11 = TreeNode(val = 24)\n",
    "node12 = TreeNode(val = 25)\n",
    "\n",
    "\n",
    "node1.left = node2\n",
    "node1.right = node3\n",
    "node3.left = node4\n",
    "node3.right = node5\n",
    "node2.left = node6\n",
    "node2.right = TreeNode(18)\n",
    "\n",
    "tree = node1\n",
    "\n",
    "node7.left = node8\n",
    "node7.right= node9\n",
    "node8.left = node10\n",
    "node8.right = node11\n",
    "node9.left=node12\n",
    "node9.right = TreeNode(26)\n",
    "\n",
    "tree2 = node7\n",
    "\n",
    "\n",
    "isSameTree(tree, tree2)"
   ]
  },
  {
   "cell_type": "code",
   "execution_count": 2,
   "metadata": {},
   "outputs": [
    {
     "data": {
      "text/plain": [
       "11"
      ]
     },
     "execution_count": 2,
     "metadata": {},
     "output_type": "execute_result"
    }
   ],
   "source": [
    "arr = [1,2,3,4,6,7,7,567567,765,56,634,34,34]\n",
    "arr.index(34)"
   ]
  },
  {
   "cell_type": "code",
   "execution_count": 8,
   "metadata": {},
   "outputs": [
    {
     "data": {
      "text/plain": [
       "False"
      ]
     },
     "execution_count": 8,
     "metadata": {},
     "output_type": "execute_result"
    }
   ],
   "source": [
    "arr = [7, 7, 7, 7, 12, 7, 7] \n",
    "i, k = 4, 3\n",
    "arr[i:i+k] == [arr[i]] * k\n"
   ]
  },
  {
   "cell_type": "code",
   "execution_count": null,
   "metadata": {},
   "outputs": [],
   "source": [
    "for i in range(len(arr) - k):\n",
    "    if arr[i:i+k] == [arr[i]] * k: \n",
    "    "
   ]
  },
  {
   "cell_type": "code",
   "execution_count": 16,
   "metadata": {},
   "outputs": [],
   "source": [
    "test = [[] for _ in range(10)]\n",
    "# two = test * 2 "
   ]
  },
  {
   "cell_type": "code",
   "execution_count": 17,
   "metadata": {},
   "outputs": [
    {
     "data": {
      "text/plain": [
       "[[], [], [], [], [], [], [], [], [], []]"
      ]
     },
     "execution_count": 17,
     "metadata": {},
     "output_type": "execute_result"
    }
   ],
   "source": [
    "test"
   ]
  },
  {
   "cell_type": "code",
   "execution_count": 18,
   "metadata": {},
   "outputs": [],
   "source": [
    "test[0].append(1)"
   ]
  },
  {
   "cell_type": "code",
   "execution_count": 19,
   "metadata": {},
   "outputs": [
    {
     "data": {
      "text/plain": [
       "[[1], [], [], [], [], [], [], [], [], []]"
      ]
     },
     "execution_count": 19,
     "metadata": {},
     "output_type": "execute_result"
    }
   ],
   "source": [
    "test"
   ]
  },
  {
   "cell_type": "code",
   "execution_count": 1,
   "metadata": {},
   "outputs": [
    {
     "data": {
      "text/plain": [
       "1"
      ]
     },
     "execution_count": 1,
     "metadata": {},
     "output_type": "execute_result"
    }
   ],
   "source": [
    "4 // 3"
   ]
  },
  {
   "cell_type": "code",
   "execution_count": 2,
   "metadata": {},
   "outputs": [
    {
     "data": {
      "text/plain": [
       "1"
      ]
     },
     "execution_count": 2,
     "metadata": {},
     "output_type": "execute_result"
    }
   ],
   "source": [
    "5 // 3"
   ]
  },
  {
   "cell_type": "code",
   "execution_count": 4,
   "metadata": {},
   "outputs": [
    {
     "data": {
      "text/plain": [
       "2"
      ]
     },
     "execution_count": 4,
     "metadata": {},
     "output_type": "execute_result"
    }
   ],
   "source": [
    "6 // 3"
   ]
  },
  {
   "cell_type": "code",
   "execution_count": 5,
   "metadata": {},
   "outputs": [],
   "source": [
    "arr = [7, 7, 7, 7, 13, 11, 12, 7]\n",
    "k = 3\n",
    "m = 2"
   ]
  },
  {
   "cell_type": "code",
   "execution_count": 6,
   "metadata": {},
   "outputs": [],
   "source": [
    "start, end = min(arr), max(arr)\n"
   ]
  },
  {
   "cell_type": "code",
   "execution_count": 63,
   "metadata": {},
   "outputs": [
    {
     "ename": "SyntaxError",
     "evalue": "'return' outside function (1870419615.py, line 27)",
     "output_type": "error",
     "traceback": [
      "\u001b[1;36m  Cell \u001b[1;32mIn[63], line 27\u001b[1;36m\u001b[0m\n\u001b[1;33m    return mid\u001b[0m\n\u001b[1;37m    ^\u001b[0m\n\u001b[1;31mSyntaxError\u001b[0m\u001b[1;31m:\u001b[0m 'return' outside function\n"
     ]
    }
   ],
   "source": [
    "\n",
    "\n",
    "def possible(day) -> bool:\n",
    "    for bloom in range(0, len(arr)):\n",
    "        # if bloomDay <= day \n",
    "        if arr[bloom] <= day:\n",
    "            adjacent += 1\n",
    "        else: \n",
    "            # before setting count = 0 \n",
    "            # check if bouquet can be formed from the most recent number of adjacent flowers\n",
    "            if adjacent // k == 1:\n",
    "                nob += 1\n",
    "            \n",
    "            adjacent = 0\n",
    "            \n",
    "    # after traversing the entire array, you may have a count that is greater >= k\n",
    "    nob += (adjacent // k)\n",
    "\n",
    "    if nob >= m:\n",
    "        return True\n",
    "    return False\n",
    "\n",
    "low, high = min(arr), max(arr)\n",
    "while low <= high:\n",
    "    # check the center day\n",
    "    mid = (low+high) // 2\n",
    "    \n",
    "    if possible(mid):\n",
    "        # since 'mid' day is possible, check if lesser days are possible\n",
    "        high = mid - 1    \n",
    "    \n",
    "    else:\n",
    "        # if day x cannot make 'm' bouquets,\n",
    "        # day x-1, x-2, x-3 ...1 will not have enough flowers to make 'm'  \n",
    "        low = mid + 1\n",
    "        # so simply search for days with more flowers bloomed\n",
    "\n",
    "return low"
   ]
  },
  {
   "cell_type": "code",
   "execution_count": 62,
   "metadata": {},
   "outputs": [
    {
     "data": {
      "text/plain": [
       "2"
      ]
     },
     "execution_count": 62,
     "metadata": {},
     "output_type": "execute_result"
    }
   ],
   "source": [
    "nob"
   ]
  },
  {
   "cell_type": "code",
   "execution_count": 41,
   "metadata": {},
   "outputs": [
    {
     "data": {
      "text/plain": [
       "True"
      ]
     },
     "execution_count": 41,
     "metadata": {},
     "output_type": "execute_result"
    }
   ],
   "source": [
    "3//3 >= 1"
   ]
  },
  {
   "cell_type": "code",
   "execution_count": 66,
   "metadata": {},
   "outputs": [
    {
     "ename": "IndexError",
     "evalue": "list index out of range",
     "output_type": "error",
     "traceback": [
      "\u001b[1;31m---------------------------------------------------------------------------\u001b[0m",
      "\u001b[1;31mIndexError\u001b[0m                                Traceback (most recent call last)",
      "Cell \u001b[1;32mIn[66], line 7\u001b[0m\n\u001b[0;32m      5\u001b[0m prevRow \u001b[38;5;241m=\u001b[39m pascal[i\u001b[38;5;241m-\u001b[39m\u001b[38;5;241m2\u001b[39m]\n\u001b[0;32m      6\u001b[0m \u001b[38;5;28;01mfor\u001b[39;00m j \u001b[38;5;129;01min\u001b[39;00m \u001b[38;5;28mrange\u001b[39m(\u001b[38;5;241m0\u001b[39m , i \u001b[38;5;241m-\u001b[39m\u001b[38;5;241m3\u001b[39m):\n\u001b[1;32m----> 7\u001b[0m     newRow\u001b[38;5;241m.\u001b[39mappend(\u001b[43mprevRow\u001b[49m\u001b[43m[\u001b[49m\u001b[43mj\u001b[49m\u001b[43m]\u001b[49m, prevRow[j\u001b[38;5;241m+\u001b[39m\u001b[38;5;241m1\u001b[39m])\n\u001b[0;32m      8\u001b[0m pascal\u001b[38;5;241m.\u001b[39mappend(newRow)\n",
      "\u001b[1;31mIndexError\u001b[0m: list index out of range"
     ]
    }
   ],
   "source": [
    "pascal = [[1], [1,1]]\n",
    "n = 5\n",
    "for i in range(3, n+1):\n",
    "    newRow = []\n",
    "    prevRow = pascal[i-2]\n",
    "    for j in range(0 , i -3):\n",
    "        newRow.append(prevRow[j], prevRow[j+1])\n",
    "    pascal.append(newRow)"
   ]
  },
  {
   "cell_type": "code",
   "execution_count": 71,
   "metadata": {},
   "outputs": [],
   "source": [
    "x = [i for i in range(0,0)]"
   ]
  },
  {
   "cell_type": "code",
   "execution_count": 76,
   "metadata": {},
   "outputs": [
    {
     "name": "stdout",
     "output_type": "stream",
     "text": [
      "0\n"
     ]
    }
   ],
   "source": [
    "newRow = []\n",
    "j = 0\n",
    "i = 3\n",
    "while j <= i - 3:\n",
    "    print(j)\n",
    "    j+=1"
   ]
  },
  {
   "cell_type": "code",
   "execution_count": null,
   "metadata": {},
   "outputs": [],
   "source": [
    "# n = 3 \n",
    "# ()()()  ((()))  (())()  ()(())\n",
    "\n",
    "def generate(n):\n",
    "    "
   ]
  },
  {
   "cell_type": "code",
   "execution_count": null,
   "metadata": {},
   "outputs": [],
   "source": []
  },
  {
   "cell_type": "code",
   "execution_count": 10,
   "metadata": {},
   "outputs": [
    {
     "data": {
      "text/plain": [
       "3"
      ]
     },
     "execution_count": 10,
     "metadata": {},
     "output_type": "execute_result"
    }
   ],
   "source": [
    "import math\n",
    "int(math.log(123,10)) + 1"
   ]
  },
  {
   "cell_type": "code",
   "execution_count": 24,
   "metadata": {},
   "outputs": [],
   "source": [
    "def digits(n):\n",
    "    if n//10 == 0:\n",
    "        return 1\n",
    "    return 1 + digits(n//10) \n",
    "# tc = O(logN)\n",
    "        "
   ]
  },
  {
   "cell_type": "code",
   "execution_count": 25,
   "metadata": {},
   "outputs": [
    {
     "data": {
      "text/plain": [
       "11"
      ]
     },
     "execution_count": 25,
     "metadata": {},
     "output_type": "execute_result"
    }
   ],
   "source": [
    "digits(12423123123)"
   ]
  },
  {
   "cell_type": "code",
   "execution_count": 67,
   "metadata": {},
   "outputs": [],
   "source": [
    "def isLucky(n) -> int:\n",
    "    \n",
    "    # remove 2nd places\n",
    "    nums = [i for i in range(1,n+1,2)]\n",
    "    \n",
    "    # remove 3rd places\n",
    "    for i in range(2,len(nums),3):\n",
    "        nums[i] = -1\n",
    "\n",
    "    print(nums)\n",
    "    return True if n in nums else False\n",
    "        "
   ]
  },
  {
   "cell_type": "code",
   "execution_count": 68,
   "metadata": {},
   "outputs": [
    {
     "data": {
      "text/plain": [
       "[1, 3, 5, 7, 9, 11, 13, 15, 17, 19]"
      ]
     },
     "execution_count": 68,
     "metadata": {},
     "output_type": "execute_result"
    }
   ],
   "source": [
    "nums = [i for i in range(1,21,2)]\n",
    "nums\n"
   ]
  },
  {
   "cell_type": "code",
   "execution_count": 69,
   "metadata": {},
   "outputs": [
    {
     "data": {
      "text/plain": [
       "[2, 5, 8]"
      ]
     },
     "execution_count": 69,
     "metadata": {},
     "output_type": "execute_result"
    }
   ],
   "source": [
    "[i for i in range(2,len(nums),3)]"
   ]
  },
  {
   "cell_type": "code",
   "execution_count": 70,
   "metadata": {},
   "outputs": [
    {
     "name": "stdout",
     "output_type": "stream",
     "text": [
      "[1, 3, -1, 7, 9, -1, 13, 15, -1, 19]\n"
     ]
    },
    {
     "data": {
      "text/plain": [
       "True"
      ]
     },
     "execution_count": 70,
     "metadata": {},
     "output_type": "execute_result"
    }
   ],
   "source": [
    "isLucky(19)"
   ]
  },
  {
   "cell_type": "code",
   "execution_count": 77,
   "metadata": {},
   "outputs": [],
   "source": [
    "def swap(a, b) -> int:\n",
    "    a = int(bin(a)[2:])\n",
    "    b = int(bin(b)[2:])\n",
    "    print(a,b)\n",
    "    a = a ^ b \n",
    "    b = a ^ b\n",
    "    a = a ^ b\n",
    "    return a, b"
   ]
  },
  {
   "cell_type": "code",
   "execution_count": 78,
   "metadata": {},
   "outputs": [
    {
     "name": "stdout",
     "output_type": "stream",
     "text": [
      "100 110\n"
     ]
    },
    {
     "data": {
      "text/plain": [
       "(110, 100)"
      ]
     },
     "execution_count": 78,
     "metadata": {},
     "output_type": "execute_result"
    }
   ],
   "source": [
    "swap(4,6)"
   ]
  },
  {
   "cell_type": "code",
   "execution_count": 79,
   "metadata": {},
   "outputs": [],
   "source": [
    "def flipBits(a,b) -> int:\n",
    "    a = int(bin(a)[2:])\n",
    "    b = int(bin(b)[2:])\n",
    "    diff = list(a ^ b)\n",
    "\n",
    "    A = list(a)\n",
    "    B = list(b)\n",
    "    for i in range(len(diff)):\n",
    "        if diff[i] == 0:\n",
    "          1 if x == y else 0      \n",
    "            "
   ]
  },
  {
   "cell_type": "code",
   "execution_count": 81,
   "metadata": {},
   "outputs": [
    {
     "data": {
      "text/plain": [
       "[0, 1, 2, 3, 4, 5, 6, 7, 8, 9]"
      ]
     },
     "execution_count": 81,
     "metadata": {},
     "output_type": "execute_result"
    }
   ],
   "source": [
    "nums = [i for i in range(10)]\n",
    "nums"
   ]
  },
  {
   "cell_type": "code",
   "execution_count": 82,
   "metadata": {},
   "outputs": [],
   "source": [
    "nums = nums[0:4] + [100] + nums[4:]"
   ]
  },
  {
   "cell_type": "code",
   "execution_count": 83,
   "metadata": {},
   "outputs": [
    {
     "data": {
      "text/plain": [
       "[0, 1, 2, 3, 100, 4, 5, 6, 7, 8, 9]"
      ]
     },
     "execution_count": 83,
     "metadata": {},
     "output_type": "execute_result"
    }
   ],
   "source": [
    "nums"
   ]
  },
  {
   "cell_type": "code",
   "execution_count": 89,
   "metadata": {},
   "outputs": [],
   "source": [
    "\"\"\"\n",
    "Given an array and a size n find the max possible len of sub array \n",
    "such that each element in the sub array follows either \n",
    "odd, even, odd\n",
    "or \n",
    "even, odd, even\n",
    "\n",
    "\"\"\"\n",
    "\n",
    "def findMaxLen(n, arr):\n",
    "    currLen, maxLen = 1, 1\n",
    "    for i in range(1,n):\n",
    "        if (arr[i-1] % 2 == 0 and arr[i] %2!=0) or ( arr[i-1] %2 != 0 and arr[i] %2 == 0):\n",
    "            # increase window size\n",
    "            currLen += 1\n",
    "            # find the max\n",
    "            maxLen = max(currLen, maxLen)\n",
    "        else:\n",
    "            currLen = 1\n",
    "\n",
    "    return maxLen \n",
    "\n",
    "\n",
    "\"\"\"\n",
    "start with a window of size 2,\n",
    "if odd, even or even,odd:\n",
    "increase size of window\n",
    "\n",
    "\n",
    "\n",
    "\"\"\"\n",
    "\n",
    "        "
   ]
  },
  {
   "cell_type": "code",
   "execution_count": 95,
   "metadata": {},
   "outputs": [
    {
     "data": {
      "text/plain": [
       "5"
      ]
     },
     "execution_count": 95,
     "metadata": {},
     "output_type": "execute_result"
    }
   ],
   "source": [
    "findMaxLen(8,[10,12,12,15,14,17,18,20])"
   ]
  },
  {
   "cell_type": "code",
   "execution_count": 8,
   "metadata": {},
   "outputs": [],
   "source": [
    "def findMaxSubArray(arr, k) -> int:\n",
    "    subArrays = {}\n",
    "    n = len(arr)\n",
    "    for i in range(n):\n",
    "        for j in range(1,n):\n",
    "            if tuple(arr[i:j+1]) in subArrays:\n",
    "                subArrays[tuple(arr[i:j+1])][1] += 1\n",
    "            subArrays[tuple(arr[i:j+1])] = [sum(arr[i:j+1]), 1]\n",
    "    print(subArrays)\n",
    "\n",
    "    count = 0\n",
    "    \n",
    "    for key, value in subArrays.items():\n",
    "        if value[1] == k:\n",
    "            print(value[1])\n",
    "            count += 1\n",
    "    return count\n",
    "        "
   ]
  },
  {
   "cell_type": "code",
   "execution_count": 9,
   "metadata": {},
   "outputs": [
    {
     "name": "stdout",
     "output_type": "stream",
     "text": [
      "{(1, 2): [3, 1], (1, 2, 1): [4, 1], (1, 2, 1, 2): [6, 1], (1, 2, 1, 2, 1): [7, 1], (2,): [2, 1], (2, 1): [3, 1], (2, 1, 2): [5, 1], (2, 1, 2, 1): [6, 1], (): [0, 1], (1,): [1, 1]}\n"
     ]
    },
    {
     "data": {
      "text/plain": [
       "0"
      ]
     },
     "execution_count": 9,
     "metadata": {},
     "output_type": "execute_result"
    }
   ],
   "source": [
    "findMaxSubArray([1,2,1,2,1], 3)"
   ]
  },
  {
   "cell_type": "code",
   "execution_count": 62,
   "metadata": {},
   "outputs": [],
   "source": [
    "# return the rightmost different bit among two numbers\n",
    "\n",
    "def differentBit(a, b) -> int:\n",
    "    a = bin(a)[2:]\n",
    "    b = bin(b)[2:]\n",
    "    print(a,b)\n",
    "    n = len(a) \n",
    "    for i in range(n-1,-1,-1):\n",
    "        if int(a[i]) ^ int(b[i]) == 0:\n",
    "            return n - i + 1\n",
    "    return -1"
   ]
  },
  {
   "cell_type": "code",
   "execution_count": 63,
   "metadata": {},
   "outputs": [
    {
     "name": "stdout",
     "output_type": "stream",
     "text": [
      "1001 1010\n"
     ]
    },
    {
     "data": {
      "text/plain": [
       "4"
      ]
     },
     "execution_count": 63,
     "metadata": {},
     "output_type": "execute_result"
    }
   ],
   "source": [
    "differentBit(9, 10)"
   ]
  },
  {
   "cell_type": "code",
   "execution_count": 25,
   "metadata": {},
   "outputs": [],
   "source": [
    "def maxSubArray(nums):\n",
    "    currSum = nums[0]\n",
    "    maxSum = 0\n",
    "    for num in nums[1:]:\n",
    "        if currSum + num >=num:\n",
    "            currSum += num\n",
    "            maxSum = max(currSum, maxSum)\n",
    "        else: \n",
    "            currSum = num\n",
    "    \n",
    "    return maxSum\n"
   ]
  },
  {
   "cell_type": "code",
   "execution_count": 26,
   "metadata": {},
   "outputs": [
    {
     "data": {
      "text/plain": [
       "6"
      ]
     },
     "execution_count": 26,
     "metadata": {},
     "output_type": "execute_result"
    }
   ],
   "source": [
    "maxSubArray([-2,1,-3,4,-1,2,1,-5,4])"
   ]
  },
  {
   "cell_type": "code",
   "execution_count": 29,
   "metadata": {},
   "outputs": [],
   "source": [
    "def containsDuplicate(nums):\n",
    "    return not list(set(nums)) == nums"
   ]
  },
  {
   "cell_type": "code",
   "execution_count": 30,
   "metadata": {},
   "outputs": [
    {
     "data": {
      "text/plain": [
       "True"
      ]
     },
     "execution_count": 30,
     "metadata": {},
     "output_type": "execute_result"
    }
   ],
   "source": [
    "containsDuplicate([1,1,2,3,4])"
   ]
  },
  {
   "cell_type": "code",
   "execution_count": 35,
   "metadata": {},
   "outputs": [],
   "source": [
    "\"\"\"\n",
    "chocolate distribution problem (refer GFG)\n",
    "\n",
    "given an array of n packets (each packets having a certain number of chocolates)\n",
    "distribute the number of packets among m students such that:\n",
    "1 - each student receives one packet\n",
    "2 - the difference bw the packet with max chocolates and the packet with min chocolates must be minimum\n",
    "\n",
    "eg: \n",
    "input = {7, 3, 2, 4, 9, 12, 56} , m = 3 \n",
    "Output: Minimum Difference is 2\n",
    "pick 2,3,4 \n",
    "4 - 2 = 2\n",
    "\"\"\"\n",
    "\n",
    "\n",
    "def distribute(packets, m) -> int:\n",
    "    minValue = float(\"inf\")\n",
    "    packets.sort()\n",
    "    for i in range(len(packets) - m):\n",
    "        minValue = min(minValue, packets[i+m - 1] - packets[i])\n",
    "    return minValue"
   ]
  },
  {
   "cell_type": "code",
   "execution_count": 38,
   "metadata": {},
   "outputs": [
    {
     "data": {
      "text/plain": [
       "6"
      ]
     },
     "execution_count": 38,
     "metadata": {},
     "output_type": "execute_result"
    }
   ],
   "source": [
    "distribute([3, 4, 1, 9, 56, 7, 9, 12], 5)"
   ]
  },
  {
   "cell_type": "code",
   "execution_count": 1,
   "metadata": {},
   "outputs": [],
   "source": [
    "def search(nums, target):\n",
    "    low, high = 0, len(nums) - 1\n",
    "    while low <= high:\n",
    "        mid = (low+high) // 2\n",
    "\n",
    "        if target == nums[mid]:\n",
    "            return mid\n",
    "        \n",
    "        # mid is part of the left section\n",
    "        if nums[low] <= nums[mid]:\n",
    "            \n",
    "            if target <= nums[mid] and target >= nums[low]:\n",
    "                high = mid - 1\n",
    "            \n",
    "            else:\n",
    "                low = mid + 1\n",
    "          \n",
    "        # mid is part of the right section\n",
    "        else:\n",
    "            if target <= nums[mid] or target >= nums[right] :\n",
    "                high = mid - 1\n",
    "            # target greater than mid, lesser than right\n",
    "            else:\n",
    "                low = mid + 1\n",
    "        return -1"
   ]
  },
  {
   "cell_type": "code",
   "execution_count": 7,
   "metadata": {},
   "outputs": [
    {
     "data": {
      "text/plain": [
       "2"
      ]
     },
     "execution_count": 7,
     "metadata": {},
     "output_type": "execute_result"
    }
   ],
   "source": [
    "5 // 2"
   ]
  },
  {
   "cell_type": "code",
   "execution_count": 19,
   "metadata": {},
   "outputs": [],
   "source": [
    "cus = [1,0,1,2,1,1,7,5]\n",
    "grum = [0,1,0,1,0,1,0,1]\n",
    "min = 3\n",
    "def maxSatisfied(customers: list[int], grumpy: list[int], minutes: int) -> int:\n",
    "    n = len(grumpy)\n",
    "    if n == minutes:\n",
    "        return sum(customers)\n",
    "    maxZeroes = [0, 0, 0]\n",
    "    maxSum = [0, 0]\n",
    "    for i in range(len(grumpy) + 1 - minutes):\n",
    "        # sub = grumpy[i:i+minutes]\n",
    "        sub2 = customers[i:i+minutes]\n",
    "        # maxZeroes = [max(maxZeroes[0], sub.count(0)), i, sum(sub2)]\n",
    "        if sum(sub2) > maxSum[0]:\n",
    "            maxSum = [sum(sub2), i] \n",
    "\n",
    "    # return maxSum\n",
    "    sum = 0\n",
    "    # from 0 to i - 1 and from i + 1 to end\n",
    "    i = 0\n",
    "    while (i < maxSum[1] or i >= maxSum[1] + minutes) and i < n:\n",
    "        if grumpy[i] == 1:\n",
    "            sum += customers[i]\n",
    "\n",
    "    return sum + maxSum[0]\n",
    "            \n",
    "\n",
    "    \n",
    "    "
   ]
  },
  {
   "cell_type": "code",
   "execution_count": 20,
   "metadata": {},
   "outputs": [
    {
     "data": {
      "text/plain": [
       "[13, 5]"
      ]
     },
     "execution_count": 20,
     "metadata": {},
     "output_type": "execute_result"
    }
   ],
   "source": [
    "maxSatisfied([1,0,1,2,1,1,7,5], [0,1,0,1,0,1,0,1], 3)"
   ]
  },
  {
   "cell_type": "code",
   "execution_count": 7,
   "metadata": {},
   "outputs": [
    {
     "data": {
      "text/plain": [
       "True"
      ]
     },
     "execution_count": 7,
     "metadata": {},
     "output_type": "execute_result"
    }
   ],
   "source": [
    "sorted(set(\"eat\")) == sorted(set(\"ate\"))"
   ]
  },
  {
   "cell_type": "code",
   "execution_count": 8,
   "metadata": {},
   "outputs": [
    {
     "data": {
      "text/plain": [
       "['a', 'e', 't']"
      ]
     },
     "execution_count": 8,
     "metadata": {},
     "output_type": "execute_result"
    }
   ],
   "source": [
    "sorted(\"eat\")"
   ]
  },
  {
   "cell_type": "code",
   "execution_count": 5,
   "metadata": {},
   "outputs": [],
   "source": [
    "# count number of sub strings that start and end with 1\n",
    "def countSubstrings(s):\n",
    "    # 100101\n",
    "    #      e \n",
    "    start, end = 0, len(s) - 1\n",
    "    firstOne, lastOne = 0, 0 \n",
    "    while True:\n",
    "        if s[end] != \"1\":\n",
    "            end -= 1\n",
    "            \n",
    "\n",
    "        if s[start] == \"1\":\n",
    "            firstOne += 1\n",
    "        start += 1\n",
    "            \n",
    "        if start ==  end:\n",
    "            break\n",
    "\n",
    "    return firstOne + (firstOne - 1)\n",
    "\"\"\"\n",
    "Use the above two pointer approach or use the following formula:\n",
    "1) compute the number of ones in the entire string\n",
    "2) apply it here:\n",
    "   ( count * (count - 1) ) // 2 \n",
    "\n",
    "\n",
    "\"\"\"\n"
   ]
  },
  {
   "cell_type": "code",
   "execution_count": 7,
   "metadata": {},
   "outputs": [
    {
     "data": {
      "text/plain": [
       "5"
      ]
     },
     "execution_count": 7,
     "metadata": {},
     "output_type": "execute_result"
    }
   ],
   "source": [
    "countSubstrings(\"1011010\")"
   ]
  },
  {
   "cell_type": "code",
   "execution_count": 25,
   "metadata": {},
   "outputs": [],
   "source": [
    "def isIsomorphic(s1, s2) -> bool:\n",
    "    matches = {}\n",
    "    for x, y in zip(s1, s2):\n",
    "        print(x, y)\n",
    "        if x in matches:\n",
    "            if y == matches[x]:\n",
    "                flag = True\n",
    "            else:\n",
    "                flag = False\n",
    "        if x not in matches:\n",
    "            matches[x] = y\n",
    "    return flag\n",
    "        \n",
    "            "
   ]
  },
  {
   "cell_type": "code",
   "execution_count": 26,
   "metadata": {},
   "outputs": [
    {
     "name": "stdout",
     "output_type": "stream",
     "text": [
      "a x\n",
      "a x\n",
      "b y\n"
     ]
    },
    {
     "data": {
      "text/plain": [
       "True"
      ]
     },
     "execution_count": 26,
     "metadata": {},
     "output_type": "execute_result"
    }
   ],
   "source": [
    "isIsomorphic(\"aab\", \"xxy\")"
   ]
  },
  {
   "cell_type": "code",
   "execution_count": 22,
   "metadata": {},
   "outputs": [
    {
     "name": "stdout",
     "output_type": "stream",
     "text": [
      "a x\n",
      "a x\n",
      "a x\n",
      "a x\n",
      "a x\n",
      "b y\n"
     ]
    }
   ],
   "source": [
    "for _1, _2 in zip(\"aaaaab\", \"xxxxxy\"):\n",
    "    print(_1, _2)"
   ]
  },
  {
   "cell_type": "code",
   "execution_count": 28,
   "metadata": {},
   "outputs": [
    {
     "name": "stdout",
     "output_type": "stream",
     "text": [
      "True\n"
     ]
    }
   ],
   "source": [
    "matches = \"asdassdasdasd\"\n",
    "\n",
    "if list(matches).sort() == list(set(matches)).sort():\n",
    "    print(True)"
   ]
  },
  {
   "cell_type": "code",
   "execution_count": 3,
   "metadata": {},
   "outputs": [],
   "source": [
    "def isPalindrome(s) -> bool:\n",
    "    formattedString = \"\"\n",
    "    for c in s:\n",
    "        if c.isalpha():\n",
    "            formattedString += c.lower()\n",
    "\n",
    "    start = 0 \n",
    "    end = len(formattedString) - 1\n",
    "\n",
    "    while start != end:\n",
    "        print(start, end)\n",
    "        if formattedString[start] == formattedString[end]:\n",
    "            start += 1\n",
    "            end -= 1\n",
    "        else:\n",
    "            return False\n",
    "    return True"
   ]
  },
  {
   "cell_type": "code",
   "execution_count": 4,
   "metadata": {},
   "outputs": [
    {
     "name": "stdout",
     "output_type": "stream",
     "text": [
      "0 20\n",
      "1 19\n",
      "2 18\n",
      "3 17\n",
      "4 16\n",
      "5 15\n",
      "6 14\n",
      "7 13\n",
      "8 12\n",
      "9 11\n"
     ]
    },
    {
     "data": {
      "text/plain": [
       "True"
      ]
     },
     "execution_count": 4,
     "metadata": {},
     "output_type": "execute_result"
    }
   ],
   "source": [
    "isPalindrome(\"A man, a plan, a canal: Panama\")"
   ]
  },
  {
   "cell_type": "code",
   "execution_count": 27,
   "metadata": {},
   "outputs": [],
   "source": [
    "def isAnagram( s: str, t: str) -> bool:\n",
    "\n",
    "        if len(s) != len(t):\n",
    "            return False\n",
    "    \n",
    "        hashmap = {}\n",
    "\n",
    "        for c1, c2 in zip(s,t):\n",
    "            \n",
    "            if c1 in hashmap:\n",
    "                hashmap[c1][0] += 1\n",
    "            else:\n",
    "                hashmap[c1] = [1, 0]\n",
    "    \n",
    "            if c2 in hashmap:\n",
    "                hashmap[c2][1] += 1\n",
    "            else:\n",
    "                hashmap[c2] = [0, 1]\n",
    "\n",
    "        for _, value in hashmap.items():\n",
    "            if value[0] != value[1]:\n",
    "                return False\n",
    "        return True\n",
    "        \n",
    "            "
   ]
  },
  {
   "cell_type": "code",
   "execution_count": 28,
   "metadata": {},
   "outputs": [
    {
     "data": {
      "text/plain": [
       "True"
      ]
     },
     "execution_count": 28,
     "metadata": {},
     "output_type": "execute_result"
    }
   ],
   "source": [
    "isAnagram(\"racercar\", \"rrraceca\")"
   ]
  },
  {
   "cell_type": "code",
   "execution_count": 53,
   "metadata": {},
   "outputs": [],
   "source": [
    "def validParentheses(s) -> bool:\n",
    "    stack = []\n",
    "    for char in s:\n",
    "        if char == \"(\" or char == \"{\" or char == \"[\":\n",
    "            stack.append(char)\n",
    "\n",
    "        elif char == \")\" and stack[-1] == \"(\":\n",
    "            stack.pop()          \n",
    "        \n",
    "        elif char == \"]\" and stack[-1] == \"[\":\n",
    "            stack.pop()\n",
    "        \n",
    "        elif char == \"}\" and stack[-1] == \"{\":\n",
    "            stack.pop()\n",
    "        print(f\"char = {char}  stack = {stack}\")\n",
    "    if stack:\n",
    "        return False\n",
    "    return True\n",
    "    "
   ]
  },
  {
   "cell_type": "code",
   "execution_count": 54,
   "metadata": {},
   "outputs": [
    {
     "name": "stdout",
     "output_type": "stream",
     "text": [
      "char = (  stack = ['(']\n",
      "char = )  stack = []\n"
     ]
    },
    {
     "data": {
      "text/plain": [
       "True"
      ]
     },
     "execution_count": 54,
     "metadata": {},
     "output_type": "execute_result"
    }
   ],
   "source": [
    "validParentheses(\"()\")"
   ]
  },
  {
   "cell_type": "code",
   "execution_count": 100,
   "metadata": {},
   "outputs": [],
   "source": [
    "def longestCommonPrefix(strings:list[str]) -> str:\n",
    "    sortedStrings = sorted(strings, key = lambda x : len(x))\n",
    "    shortestString = sortedStrings[0] \n",
    "    res = \"\"\n",
    "\n",
    "    for i in range(len(shortestString)):\n",
    "        for s in sortedStrings[1:]:\n",
    "            if shortestString[i] != s[i]:\n",
    "                return res\n",
    "        res += shortestString[i]\n",
    "    return res"
   ]
  },
  {
   "cell_type": "code",
   "execution_count": 82,
   "metadata": {},
   "outputs": [
    {
     "data": {
      "text/plain": [
       "'fl'"
      ]
     },
     "execution_count": 82,
     "metadata": {},
     "output_type": "execute_result"
    }
   ],
   "source": [
    "longestCommonPrefix([\"flower\",\"flow\",\"flight\"])"
   ]
  },
  {
   "cell_type": "code",
   "execution_count": 126,
   "metadata": {},
   "outputs": [],
   "source": [
    "\n",
    "def typeSentence(sentence) -> str:\n",
    "    \n",
    "    sequence = {\n",
    "        '2':'a',\n",
    "        '22':'b',\n",
    "        '222':'c',\n",
    "        '3': 'd',\n",
    "        '33':'e',\n",
    "        '333':'f',\n",
    "        '4':'g',\n",
    "        '44':'h',\n",
    "        '444':'i',\n",
    "        '5': 'j',\n",
    "        '55': 'k',\n",
    "        '555': 'l',\n",
    "        '6': 'm',\n",
    "        '66': 'n',\n",
    "        '666': 'o', \n",
    "        '7': 'p',\n",
    "        '77': 'q',\n",
    "        '777': 'r',\n",
    "        '7777': 's',\n",
    "        '8': 't',\n",
    "        '88': 'u',\n",
    "        '888': 'v',\n",
    "        '9':'w',\n",
    "        '99': 'x',\n",
    "        '999': 'y',\n",
    "        '9999':'z' }\n",
    "    if len(sentence) == 1:\n",
    "        return sequence[sentence]\n",
    "    res = ''\n",
    "    start = 0\n",
    "    for i in range(len(sentence) - 1):\n",
    "        \n",
    "        if sentence[start] != sentence[i + 1]:\n",
    "            sub = sentence[start:i+1]\n",
    "            res += sequence[sub]\n",
    "            start = i + 1\n",
    "\n",
    "    # the last sequence is unhandled\n",
    "    # 444555666\n",
    "    #       si\n",
    "    # the above shown is the final values of start and i before exitting the loop\n",
    "    res += sequence[sentence[start:i+2]]\n",
    "    \n",
    "    return res\n",
    "\n",
    "    \n",
    "    "
   ]
  },
  {
   "cell_type": "code",
   "execution_count": 127,
   "metadata": {},
   "outputs": [
    {
     "data": {
      "text/plain": [
       "'hlnpf'"
      ]
     },
     "execution_count": 127,
     "metadata": {},
     "output_type": "execute_result"
    }
   ],
   "source": [
    "typeSentence(\"44555667333\")"
   ]
  },
  {
   "cell_type": "code",
   "execution_count": 116,
   "metadata": {},
   "outputs": [],
   "source": [
    "sequence = {\n",
    "        \"a\": '2',\n",
    "        \"b\": '22',\n",
    "        \"c\": '222',\n",
    "        \"d\": '3',\n",
    "        \"e\": '33',\n",
    "        \"f\": '333',\n",
    "        \"g\": '4',\n",
    "        \"h\": '44',\n",
    "        \"i\": '444',\n",
    "        \"j\": '5',\n",
    "        \"k\": '55',\n",
    "        \"l\": '555',\n",
    "        \"m\": '6',\n",
    "        \"n\": '66',\n",
    "        \"o\": '666', \n",
    "        \"p\": '7',\n",
    "        \"q\": '77',\n",
    "        \"r\": '777',\n",
    "        \"s\": '7777',\n",
    "        \"t\": '8',\n",
    "        \"u\": '88',\n",
    "        \"v\": '888',\n",
    "        \"w\": '9',\n",
    "        'x': '99',\n",
    "        'y': '999',\n",
    "        'z': '9999'\n",
    "    }"
   ]
  },
  {
   "cell_type": "code",
   "execution_count": 9,
   "metadata": {},
   "outputs": [],
   "source": [
    "\n",
    "def findSumOfSquares(c):\n",
    "    for a in range(int(c**0.5) + 1):\n",
    "        for b in range(int(c ** 0.5) + 1):\n",
    "            if a**2 + b**2 == c:\n",
    "                return a,b"
   ]
  },
  {
   "cell_type": "code",
   "execution_count": 12,
   "metadata": {},
   "outputs": [
    {
     "data": {
      "text/plain": [
       "(0, 10)"
      ]
     },
     "execution_count": 12,
     "metadata": {},
     "output_type": "execute_result"
    }
   ],
   "source": [
    "findSumOfSquares(100)"
   ]
  },
  {
   "cell_type": "code",
   "execution_count": 16,
   "metadata": {},
   "outputs": [],
   "source": [
    "def maxArea(height: list[int]) -> int:\n",
    "    maxArea = 0\n",
    "    i, j = 0, len(height) - 1\n",
    "    while i <=j:    \n",
    "        l = j - i \n",
    "        h = min(height[j],height[i])\n",
    "        maxArea = max(maxArea, h * l) \n",
    "        if height[j] > height[i]:\n",
    "            i += 1\n",
    "        else:\n",
    "            j -= 1\n",
    "    return maxArea"
   ]
  },
  {
   "cell_type": "code",
   "execution_count": 17,
   "metadata": {},
   "outputs": [
    {
     "data": {
      "text/plain": [
       "49"
      ]
     },
     "execution_count": 17,
     "metadata": {},
     "output_type": "execute_result"
    }
   ],
   "source": [
    "maxArea([1,8,6,2,5,4,8,3,7])"
   ]
  },
  {
   "cell_type": "code",
   "execution_count": 28,
   "metadata": {},
   "outputs": [],
   "source": [
    "def canMeetingBeHeld(start:list[int], end:list[int]) ->int:\n",
    "    temp = [start[0],end[0]]\n",
    "    n = 1\n",
    "    for i in range(1,len(start) - 1):\n",
    "        if temp[1] < start[i]:\n",
    "            n += 1\n",
    "        temp[0], temp[1] = start[i], end[i]\n",
    "    return n\n",
    "    "
   ]
  },
  {
   "cell_type": "code",
   "execution_count": 29,
   "metadata": {},
   "outputs": [
    {
     "data": {
      "text/plain": [
       "3"
      ]
     },
     "execution_count": 29,
     "metadata": {},
     "output_type": "execute_result"
    }
   ],
   "source": [
    "canMeetingBeHeld([1,3,5, 0], [2,4,6, 7])"
   ]
  },
  {
   "cell_type": "code",
   "execution_count": 42,
   "metadata": {},
   "outputs": [],
   "source": [
    "def removeDuplicates(nums) -> int:\n",
    "    if len(nums) == 1:\n",
    "        return 1\n",
    "    i, j = 0, 1\n",
    "    count = 1\n",
    "    infCount = 0\n",
    "    while i <= j and j < len(nums):\n",
    "        if nums[i] == nums[j]:\n",
    "            count += 1\n",
    "            if count > 2:\n",
    "                # replcae number with infinity\n",
    "                nums[j] = float(\"inf\")\n",
    "                # track number of infinities you've placed\n",
    "                infCount += 1\n",
    "            j += 1\n",
    "        # if nums[i] != nums[j]\n",
    "        else:\n",
    "            i = j\n",
    "            # reset count to 1\n",
    "            count = 1\n",
    "            j += 1\n",
    "    # inf values will move to the last\n",
    "    nums.sort()\n",
    "    # length of the array - number of infinities will give you the first k elements\n",
    "    return len(nums) - infCount\n",
    "\n",
    "        \n",
    "            "
   ]
  },
  {
   "cell_type": "code",
   "execution_count": 43,
   "metadata": {},
   "outputs": [
    {
     "data": {
      "text/plain": [
       "7"
      ]
     },
     "execution_count": 43,
     "metadata": {},
     "output_type": "execute_result"
    }
   ],
   "source": [
    "removeDuplicates([0,0,1,1,1,1,2,3,3])"
   ]
  },
  {
   "cell_type": "code",
   "execution_count": 7,
   "metadata": {},
   "outputs": [],
   "source": [
    "from collections import Counter\n",
    "def printDuplicates(s):\n",
    "    s = s.lower()\n",
    "    for k,v in Counter(s).items():\n",
    "        if v > 1:\n",
    "            print(k)"
   ]
  },
  {
   "cell_type": "code",
   "execution_count": 8,
   "metadata": {},
   "outputs": [
    {
     "name": "stdout",
     "output_type": "stream",
     "text": [
      "g\n",
      "e\n",
      "k\n",
      "s\n"
     ]
    }
   ],
   "source": [
    "printDuplicates(\"Geeksforgeeks\")"
   ]
  },
  {
   "cell_type": "code",
   "execution_count": 33,
   "metadata": {},
   "outputs": [],
   "source": [
    "def longestSubstringWithoutRepeat(s) -> int:\n",
    "    i, j = 0, 0\n",
    "    hashset = set()\n",
    "    maxLen, count = 0, 1\n",
    "    while j < len(s):\n",
    "        # if char not in window, increase it \n",
    "        if s[j] not in hashset:\n",
    "            hashset.add(s[j])\n",
    "            count += 1\n",
    "        else:\n",
    "            # increase left window pointer \n",
    "            hashset.remove(s[j])\n",
    "            i += 1\n",
    "            count = j - i + 1\n",
    "        j += 1\n",
    "        \n",
    "        maxLen = max(maxLen, count)\n",
    "    return maxLen - 1"
   ]
  },
  {
   "cell_type": "code",
   "execution_count": 35,
   "metadata": {},
   "outputs": [
    {
     "data": {
      "text/plain": [
       "4"
      ]
     },
     "execution_count": 35,
     "metadata": {},
     "output_type": "execute_result"
    }
   ],
   "source": [
    "longestSubstringWithoutRepeat(\"pwwkew\")"
   ]
  },
  {
   "cell_type": "code",
   "execution_count": 18,
   "metadata": {},
   "outputs": [
    {
     "data": {
      "text/plain": [
       "False"
      ]
     },
     "execution_count": 18,
     "metadata": {},
     "output_type": "execute_result"
    }
   ],
   "source": [
    "\"a\" not in \"a\"[0:1]"
   ]
  },
  {
   "cell_type": "code",
   "execution_count": 29,
   "metadata": {},
   "outputs": [
    {
     "data": {
      "text/plain": [
       "0"
      ]
     },
     "execution_count": 29,
     "metadata": {},
     "output_type": "execute_result"
    }
   ],
   "source": [
    "len(\"\")"
   ]
  },
  {
   "cell_type": "code",
   "execution_count": 47,
   "metadata": {},
   "outputs": [],
   "source": [
    "def backtrackSubset(nums) -> int:\n",
    "    res = 0 \n",
    "    \n",
    "    def dfs(i, total):\n",
    "        if i >= len(nums):\n",
    "            return total\n",
    "    \n",
    "        \n",
    "        return dfs(i + 1, total ^ nums[i]) + dfs( i + 1, total)\n",
    "    \n",
    "    return dfs(0, 0)"
   ]
  },
  {
   "cell_type": "code",
   "execution_count": 48,
   "metadata": {},
   "outputs": [
    {
     "data": {
      "text/plain": [
       "12"
      ]
     },
     "execution_count": 48,
     "metadata": {},
     "output_type": "execute_result"
    }
   ],
   "source": [
    "backtrackSubset([1,2,3])"
   ]
  },
  {
   "cell_type": "code",
   "execution_count": null,
   "metadata": {},
   "outputs": [],
   "source": []
  },
  {
   "cell_type": "code",
   "execution_count": null,
   "metadata": {},
   "outputs": [],
   "source": []
  }
 ],
 "metadata": {
  "kernelspec": {
   "display_name": "Python 3 (ipykernel)",
   "language": "python",
   "name": "python3"
  },
  "language_info": {
   "codemirror_mode": {
    "name": "ipython",
    "version": 3
   },
   "file_extension": ".py",
   "mimetype": "text/x-python",
   "name": "python",
   "nbconvert_exporter": "python",
   "pygments_lexer": "ipython3",
   "version": "3.11.7"
  }
 },
 "nbformat": 4,
 "nbformat_minor": 4
}
