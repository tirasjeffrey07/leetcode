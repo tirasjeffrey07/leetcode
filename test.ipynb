{
 "cells": [
  {
   "cell_type": "code",
   "execution_count": 1,
   "metadata": {},
   "outputs": [
    {
     "data": {
      "text/plain": [
       "[1, 1, 2, 2, 2, 3, 3, 3, 3, 4, 4, 5, 5, 5, 6, 7]"
      ]
     },
     "execution_count": 1,
     "metadata": {},
     "output_type": "execute_result"
    }
   ],
   "source": [
    "nums = [1,1,2,2,2,3,3,3,3,4,4,5,5,5,6,7]\n",
    "nums"
   ]
  },
  {
   "cell_type": "code",
   "execution_count": 2,
   "metadata": {},
   "outputs": [
    {
     "ename": "KeyboardInterrupt",
     "evalue": "",
     "output_type": "error",
     "traceback": [
      "\u001b[1;31m---------------------------------------------------------------------------\u001b[0m",
      "\u001b[1;31mKeyboardInterrupt\u001b[0m                         Traceback (most recent call last)",
      "Cell \u001b[1;32mIn[2], line 1\u001b[0m\n\u001b[1;32m----> 1\u001b[0m \u001b[38;5;28;01mwhile\u001b[39;00m \u001b[38;5;28;01mTrue\u001b[39;00m:\n\u001b[0;32m      2\u001b[0m     \u001b[38;5;28;01mpass\u001b[39;00m\n",
      "\u001b[1;31mKeyboardInterrupt\u001b[0m: "
     ]
    }
   ],
   "source": [
    "while True:\n",
    "    pass"
   ]
  },
  {
   "cell_type": "code",
   "execution_count": 3,
   "metadata": {},
   "outputs": [
    {
     "data": {
      "text/plain": [
       "Counter({3: 4, 2: 3, 5: 3, 1: 2, 4: 2, 6: 1, 7: 1})"
      ]
     },
     "execution_count": 3,
     "metadata": {},
     "output_type": "execute_result"
    }
   ],
   "source": [
    "from collections import Counter\n",
    "\n",
    "newNums = Counter(nums)\n",
    "newNums"
   ]
  },
  {
   "cell_type": "code",
   "execution_count": 4,
   "metadata": {},
   "outputs": [
    {
     "data": {
      "text/plain": [
       "14"
      ]
     },
     "execution_count": 4,
     "metadata": {},
     "output_type": "execute_result"
    }
   ],
   "source": [
    "number = 0\n",
    "\n",
    "for k, v in newNums.items():\n",
    "    if v > 1:\n",
    "        number += (v * (v - 1)) // 2\n",
    "number"
   ]
  },
  {
   "cell_type": "code",
   "execution_count": 5,
   "metadata": {},
   "outputs": [],
   "source": [
    "res = []\n",
    "n = 6\n",
    "for i in range(n-2):\n",
    "    res.append([0] * (n-2))"
   ]
  },
  {
   "cell_type": "code",
   "execution_count": 6,
   "metadata": {},
   "outputs": [
    {
     "data": {
      "text/plain": [
       "[[0, 0, 0, 0], [0, 0, 0, 0], [0, 0, 0, 0], [0, 0, 0, 0]]"
      ]
     },
     "execution_count": 6,
     "metadata": {},
     "output_type": "execute_result"
    }
   ],
   "source": [
    "res"
   ]
  },
  {
   "cell_type": "code",
   "execution_count": 7,
   "metadata": {},
   "outputs": [],
   "source": [
    "def largestLocal(grid: list[list[int]]) -> list[list[int]]:\n",
    "        n = len(grid[0])\n",
    "        res = [[0] * (n-2) for _ in range(n-2)]\n",
    "        \n",
    "        def findMax(i:int, j:int,  mat: list[list[int]]) -> int:\n",
    "            maxVal = 0\n",
    "            for r in range(i, i+3):\n",
    "                print(\"Row:\", r)\n",
    "                for c in range(j, j+3):\n",
    "                    print(\"Column: {}, Element: {}, Max: {}\".format( c, grid[r][c], maxVal))\n",
    "                    maxVal = max(maxVal, grid[r][c])\n",
    "            return maxVal\n",
    "        \n",
    "        for i in range(0, n-2):\n",
    "            for j in range(0, n-2): \n",
    "                res[i][j] = findMax(i, j, grid)\n",
    "\n",
    "        return res"
   ]
  },
  {
   "cell_type": "code",
   "execution_count": 8,
   "metadata": {},
   "outputs": [
    {
     "name": "stdout",
     "output_type": "stream",
     "text": [
      "Row: 0\n",
      "Column: 0, Element: 9, Max: 0\n",
      "Column: 1, Element: 9, Max: 9\n",
      "Column: 2, Element: 8, Max: 9\n",
      "Row: 1\n",
      "Column: 0, Element: 5, Max: 9\n",
      "Column: 1, Element: 6, Max: 9\n",
      "Column: 2, Element: 2, Max: 9\n",
      "Row: 2\n",
      "Column: 0, Element: 8, Max: 9\n",
      "Column: 1, Element: 2, Max: 9\n",
      "Column: 2, Element: 6, Max: 9\n",
      "Row: 0\n",
      "Column: 1, Element: 9, Max: 0\n",
      "Column: 2, Element: 8, Max: 9\n",
      "Column: 3, Element: 1, Max: 9\n",
      "Row: 1\n",
      "Column: 1, Element: 6, Max: 9\n",
      "Column: 2, Element: 2, Max: 9\n",
      "Column: 3, Element: 6, Max: 9\n",
      "Row: 2\n",
      "Column: 1, Element: 2, Max: 9\n",
      "Column: 2, Element: 6, Max: 9\n",
      "Column: 3, Element: 4, Max: 9\n",
      "Row: 1\n",
      "Column: 0, Element: 5, Max: 0\n",
      "Column: 1, Element: 6, Max: 5\n",
      "Column: 2, Element: 2, Max: 6\n",
      "Row: 2\n",
      "Column: 0, Element: 8, Max: 6\n",
      "Column: 1, Element: 2, Max: 8\n",
      "Column: 2, Element: 6, Max: 8\n",
      "Row: 3\n",
      "Column: 0, Element: 6, Max: 8\n",
      "Column: 1, Element: 2, Max: 8\n",
      "Column: 2, Element: 2, Max: 8\n",
      "Row: 1\n",
      "Column: 1, Element: 6, Max: 0\n",
      "Column: 2, Element: 2, Max: 6\n",
      "Column: 3, Element: 6, Max: 6\n",
      "Row: 2\n",
      "Column: 1, Element: 2, Max: 6\n",
      "Column: 2, Element: 6, Max: 6\n",
      "Column: 3, Element: 4, Max: 6\n",
      "Row: 3\n",
      "Column: 1, Element: 2, Max: 6\n",
      "Column: 2, Element: 2, Max: 6\n",
      "Column: 3, Element: 2, Max: 6\n"
     ]
    },
    {
     "data": {
      "text/plain": [
       "[[9, 9], [8, 6]]"
      ]
     },
     "execution_count": 8,
     "metadata": {},
     "output_type": "execute_result"
    }
   ],
   "source": [
    "largestLocal([[9,9,8,1],[5,6,2,6],[8,2,6,4],[6,2,2,2]])"
   ]
  },
  {
   "cell_type": "code",
   "execution_count": 14,
   "metadata": {},
   "outputs": [],
   "source": [
    "def addBinary(a: str, b: str) -> str:\n",
    "        \n",
    "        if a == \"0\":\n",
    "            return b\n",
    "        if b == \"0\":\n",
    "            return a\n",
    "\n",
    "        sum = \"\"\n",
    "        i = 0\n",
    "        carry = 0\n",
    "        \n",
    "        # 1 1 0 1\n",
    "        #   1 1 1\n",
    "\n",
    "        diff = max(len(b), len(a)) - min(len(a), len(b))\n",
    "        \n",
    "        if len(b) < len(a):\n",
    "            b = str(\"0\" * diff) +  b\n",
    "        elif len(a) < len(b):\n",
    "            a = str(\"0\" * diff) + a\n",
    "\n",
    "        a = a[::-1]\n",
    "        b = b[::-1]\n",
    "        \n",
    "        while i < len(a):\n",
    "            # 1 + 1\n",
    "            if int(a[i]) + int(b[i]) == 2:\n",
    "                \n",
    "                # with carry\n",
    "                if carry == 1:\n",
    "                    sum += '1'     \n",
    "                \n",
    "                # without carry\n",
    "                else:\n",
    "                    sum += '0'               \n",
    "                # updating next carry\n",
    "                carry = 1\n",
    "            \n",
    "            # 0 + 1\n",
    "            if int(a[i]) + int(b[i]) == 1:\n",
    "                if carry == 1:\n",
    "                    sum += '0'\n",
    "                    carry = 1\n",
    "                else:\n",
    "                    sum.append(1)\n",
    "                    carry = 0\n",
    "            # 0 + 0\n",
    "            if int(a[i]) + int(b[i]) == 0:\n",
    "                if carry == 1:\n",
    "                    sum += '1'\n",
    "                else:\n",
    "                    sum += '0'\n",
    "            i += 1\n",
    "\n",
    "        if carry == 1:\n",
    "            sum += '1'\n",
    "\n",
    "        return sum[::-1]"
   ]
  },
  {
   "cell_type": "code",
   "execution_count": 15,
   "metadata": {},
   "outputs": [
    {
     "data": {
      "text/plain": [
       "'100100'"
      ]
     },
     "execution_count": 15,
     "metadata": {},
     "output_type": "execute_result"
    }
   ],
   "source": [
    "addBinary(\"11101\",\"111\")"
   ]
  },
  {
   "cell_type": "code",
   "execution_count": 24,
   "metadata": {},
   "outputs": [],
   "source": [
    "def addBinaryShortcut(a:str, b:str) -> str:\n",
    "    print(int(a), int(b))\n",
    "    return bin(int(a,2) + int(b,2))[2:]"
   ]
  },
  {
   "cell_type": "code",
   "execution_count": 25,
   "metadata": {},
   "outputs": [
    {
     "name": "stdout",
     "output_type": "stream",
     "text": [
      "11101 111\n"
     ]
    },
    {
     "data": {
      "text/plain": [
       "'100100'"
      ]
     },
     "execution_count": 25,
     "metadata": {},
     "output_type": "execute_result"
    }
   ],
   "source": [
    "addBinaryShortcut(\"11101\", \"111\")"
   ]
  },
  {
   "cell_type": "code",
   "execution_count": 37,
   "metadata": {},
   "outputs": [],
   "source": [
    "def match(s) -> bool:\n",
    "    stack = []\n",
    "    \n",
    "    for char in s:\n",
    "        if char == \"{\":\n",
    "            stack.append(\"}\")\n",
    "        elif char == \"[\":\n",
    "            stack.append(\"]\")\n",
    "        elif char == \"(\":\n",
    "            stack.append(\")\")\n",
    "        \n",
    "        elif not stack or stack.pop() == char:\n",
    "            return False\n",
    "            \n",
    "    if len(stack) > 0:\n",
    "        return False\n",
    "    return True"
   ]
  },
  {
   "cell_type": "code",
   "execution_count": 38,
   "metadata": {},
   "outputs": [
    {
     "data": {
      "text/plain": [
       "False"
      ]
     },
     "execution_count": 38,
     "metadata": {},
     "output_type": "execute_result"
    }
   ],
   "source": [
    "match(\"(])\")"
   ]
  },
  {
   "cell_type": "code",
   "execution_count": 51,
   "metadata": {},
   "outputs": [
    {
     "name": "stdout",
     "output_type": "stream",
     "text": [
      "False\n",
      "False\n",
      "False\n",
      "False\n"
     ]
    },
    {
     "data": {
      "text/plain": [
       "[[...], [...], [...], [...]]"
      ]
     },
     "execution_count": 51,
     "metadata": {},
     "output_type": "execute_result"
    }
   ],
   "source": [
    "check = dict({\n",
    "            \")\" : \"(\",\n",
    "            \"}\" : \"{\",\n",
    "            \"]\" : \"[\"\n",
    "        }) \n",
    "\n",
    "s = \"{}()[]{}\"\n",
    "stack = []\n",
    "for char in s:\n",
    "    if char not in check:\n",
    "        stack.append(stack)\n",
    "    elif stack:\n",
    "        if check[char] != stack[-1]:\n",
    "            print(False)\n",
    "stack"
   ]
  },
  {
   "cell_type": "code",
   "execution_count": 24,
   "metadata": {},
   "outputs": [],
   "source": [
    "def isSameTree( p, q) -> bool:\n",
    "        \n",
    "    # firstTree = []\n",
    "    # secondTree = [] \n",
    "    \n",
    "    def inOrder(node, arr = []):\n",
    "        if not node:\n",
    "            arr.append(None)\n",
    "            return\n",
    "    \n",
    "        inOrder(node.left)\n",
    "        arr.append(node.val)\n",
    "        inOrder(node.right)\n",
    "        \n",
    "        return arr\n",
    "\n",
    "    print(\"Tree 1:\\n\" + str(inOrder(p)) + \"\\nTree2\\n\" + str(inOrder(q)))\n",
    "        "
   ]
  },
  {
   "cell_type": "code",
   "execution_count": 26,
   "metadata": {},
   "outputs": [
    {
     "name": "stdout",
     "output_type": "stream",
     "text": [
      "Tree 1:\n",
      "[None, 17, None, 13, None, 18, None, 12, None, 15, None, 14, None, 16, None]\n",
      "Tree2\n",
      "[None, 17, None, 13, None, 18, None, 12, None, 15, None, 14, None, 16, None, None, 23, None, 21, None, 24, None, 20, None, 25, None, 22, None, 26, None]\n"
     ]
    }
   ],
   "source": [
    "class TreeNode:\n",
    "    def __init__(self, val=0, left=None, right=None):\n",
    "        self.val = val\n",
    "        self.left = left\n",
    "        self.right = right\n",
    "\n",
    "node1 = TreeNode(val = 12)\n",
    "node2 = TreeNode(val = 13)\n",
    "node3 = TreeNode(val = 14)\n",
    "node4 = TreeNode(val = 15)\n",
    "node5 = TreeNode(val = 16)\n",
    "node6 = TreeNode(val = 17)\n",
    "\n",
    "\n",
    "node7 = TreeNode(val = 20)\n",
    "node8 = TreeNode(val = 21)\n",
    "node9 = TreeNode(val = 22)\n",
    "node10 = TreeNode(val = 23)\n",
    "node11 = TreeNode(val = 24)\n",
    "node12 = TreeNode(val = 25)\n",
    "\n",
    "\n",
    "node1.left = node2\n",
    "node1.right = node3\n",
    "node3.left = node4\n",
    "node3.right = node5\n",
    "node2.left = node6\n",
    "node2.right = TreeNode(18)\n",
    "\n",
    "tree = node1\n",
    "\n",
    "node7.left = node8\n",
    "node7.right= node9\n",
    "node8.left = node10\n",
    "node8.right = node11\n",
    "node9.left=node12\n",
    "node9.right = TreeNode(26)\n",
    "\n",
    "tree2 = node7\n",
    "\n",
    "\n",
    "isSameTree(tree, tree2)"
   ]
  },
  {
   "cell_type": "code",
   "execution_count": 2,
   "metadata": {},
   "outputs": [
    {
     "data": {
      "text/plain": [
       "11"
      ]
     },
     "execution_count": 2,
     "metadata": {},
     "output_type": "execute_result"
    }
   ],
   "source": [
    "arr = [1,2,3,4,6,7,7,567567,765,56,634,34,34]\n",
    "arr.index(34)"
   ]
  },
  {
   "cell_type": "code",
   "execution_count": 8,
   "metadata": {},
   "outputs": [
    {
     "data": {
      "text/plain": [
       "False"
      ]
     },
     "execution_count": 8,
     "metadata": {},
     "output_type": "execute_result"
    }
   ],
   "source": [
    "arr = [7, 7, 7, 7, 12, 7, 7] \n",
    "i, k = 4, 3\n",
    "arr[i:i+k] == [arr[i]] * k\n"
   ]
  },
  {
   "cell_type": "code",
   "execution_count": null,
   "metadata": {},
   "outputs": [],
   "source": [
    "for i in range(len(arr) - k):\n",
    "    if arr[i:i+k] == [arr[i]] * k: \n",
    "    "
   ]
  },
  {
   "cell_type": "code",
   "execution_count": 16,
   "metadata": {},
   "outputs": [],
   "source": [
    "test = [[] for _ in range(10)]\n",
    "# two = test * 2 "
   ]
  },
  {
   "cell_type": "code",
   "execution_count": 17,
   "metadata": {},
   "outputs": [
    {
     "data": {
      "text/plain": [
       "[[], [], [], [], [], [], [], [], [], []]"
      ]
     },
     "execution_count": 17,
     "metadata": {},
     "output_type": "execute_result"
    }
   ],
   "source": [
    "test"
   ]
  },
  {
   "cell_type": "code",
   "execution_count": 18,
   "metadata": {},
   "outputs": [],
   "source": [
    "test[0].append(1)"
   ]
  },
  {
   "cell_type": "code",
   "execution_count": 19,
   "metadata": {},
   "outputs": [
    {
     "data": {
      "text/plain": [
       "[[1], [], [], [], [], [], [], [], [], []]"
      ]
     },
     "execution_count": 19,
     "metadata": {},
     "output_type": "execute_result"
    }
   ],
   "source": [
    "test"
   ]
  },
  {
   "cell_type": "code",
   "execution_count": 1,
   "metadata": {},
   "outputs": [
    {
     "data": {
      "text/plain": [
       "1"
      ]
     },
     "execution_count": 1,
     "metadata": {},
     "output_type": "execute_result"
    }
   ],
   "source": [
    "4 // 3"
   ]
  },
  {
   "cell_type": "code",
   "execution_count": 2,
   "metadata": {},
   "outputs": [
    {
     "data": {
      "text/plain": [
       "1"
      ]
     },
     "execution_count": 2,
     "metadata": {},
     "output_type": "execute_result"
    }
   ],
   "source": [
    "5 // 3"
   ]
  },
  {
   "cell_type": "code",
   "execution_count": 4,
   "metadata": {},
   "outputs": [
    {
     "data": {
      "text/plain": [
       "2"
      ]
     },
     "execution_count": 4,
     "metadata": {},
     "output_type": "execute_result"
    }
   ],
   "source": [
    "6 // 3"
   ]
  },
  {
   "cell_type": "code",
   "execution_count": 5,
   "metadata": {},
   "outputs": [],
   "source": [
    "arr = [7, 7, 7, 7, 13, 11, 12, 7]\n",
    "k = 3\n",
    "m = 2"
   ]
  },
  {
   "cell_type": "code",
   "execution_count": 6,
   "metadata": {},
   "outputs": [],
   "source": [
    "start, end = min(arr), max(arr)\n"
   ]
  },
  {
   "cell_type": "code",
   "execution_count": 63,
   "metadata": {},
   "outputs": [
    {
     "ename": "SyntaxError",
     "evalue": "'return' outside function (1870419615.py, line 27)",
     "output_type": "error",
     "traceback": [
      "\u001b[1;36m  Cell \u001b[1;32mIn[63], line 27\u001b[1;36m\u001b[0m\n\u001b[1;33m    return mid\u001b[0m\n\u001b[1;37m    ^\u001b[0m\n\u001b[1;31mSyntaxError\u001b[0m\u001b[1;31m:\u001b[0m 'return' outside function\n"
     ]
    }
   ],
   "source": [
    "\n",
    "\n",
    "def possible(day) -> bool:\n",
    "    for bloom in range(0, len(arr)):\n",
    "        # if bloomDay <= day \n",
    "        if arr[bloom] <= day:\n",
    "            adjacent += 1\n",
    "        else: \n",
    "            # before setting count = 0 \n",
    "            # check if bouquet can be formed from the most recent number of adjacent flowers\n",
    "            if adjacent // k == 1:\n",
    "                nob += 1\n",
    "            \n",
    "            adjacent = 0\n",
    "            \n",
    "    # after traversing the entire array, you may have a count that is greater >= k\n",
    "    nob += (adjacent // k)\n",
    "\n",
    "    if nob >= m:\n",
    "        return True\n",
    "    return False\n",
    "\n",
    "low, high = min(arr), max(arr)\n",
    "while low <= high:\n",
    "    # check the center day\n",
    "    mid = (low+high) // 2\n",
    "    \n",
    "    if possible(mid):\n",
    "        # since 'mid' day is possible, check if lesser days are possible\n",
    "        high = mid - 1    \n",
    "    \n",
    "    else:\n",
    "        # if day x cannot make 'm' bouquets,\n",
    "        # day x-1, x-2, x-3 ...1 will not have enough flowers to make 'm'  \n",
    "        low = mid + 1\n",
    "        # so simply search for days with more flowers bloomed\n",
    "\n",
    "return low"
   ]
  },
  {
   "cell_type": "code",
   "execution_count": 62,
   "metadata": {},
   "outputs": [
    {
     "data": {
      "text/plain": [
       "2"
      ]
     },
     "execution_count": 62,
     "metadata": {},
     "output_type": "execute_result"
    }
   ],
   "source": [
    "nob"
   ]
  },
  {
   "cell_type": "code",
   "execution_count": 41,
   "metadata": {},
   "outputs": [
    {
     "data": {
      "text/plain": [
       "True"
      ]
     },
     "execution_count": 41,
     "metadata": {},
     "output_type": "execute_result"
    }
   ],
   "source": [
    "3//3 >= 1"
   ]
  },
  {
   "cell_type": "code",
   "execution_count": 66,
   "metadata": {},
   "outputs": [
    {
     "ename": "IndexError",
     "evalue": "list index out of range",
     "output_type": "error",
     "traceback": [
      "\u001b[1;31m---------------------------------------------------------------------------\u001b[0m",
      "\u001b[1;31mIndexError\u001b[0m                                Traceback (most recent call last)",
      "Cell \u001b[1;32mIn[66], line 7\u001b[0m\n\u001b[0;32m      5\u001b[0m prevRow \u001b[38;5;241m=\u001b[39m pascal[i\u001b[38;5;241m-\u001b[39m\u001b[38;5;241m2\u001b[39m]\n\u001b[0;32m      6\u001b[0m \u001b[38;5;28;01mfor\u001b[39;00m j \u001b[38;5;129;01min\u001b[39;00m \u001b[38;5;28mrange\u001b[39m(\u001b[38;5;241m0\u001b[39m , i \u001b[38;5;241m-\u001b[39m\u001b[38;5;241m3\u001b[39m):\n\u001b[1;32m----> 7\u001b[0m     newRow\u001b[38;5;241m.\u001b[39mappend(\u001b[43mprevRow\u001b[49m\u001b[43m[\u001b[49m\u001b[43mj\u001b[49m\u001b[43m]\u001b[49m, prevRow[j\u001b[38;5;241m+\u001b[39m\u001b[38;5;241m1\u001b[39m])\n\u001b[0;32m      8\u001b[0m pascal\u001b[38;5;241m.\u001b[39mappend(newRow)\n",
      "\u001b[1;31mIndexError\u001b[0m: list index out of range"
     ]
    }
   ],
   "source": [
    "pascal = [[1], [1,1]]\n",
    "n = 5\n",
    "for i in range(3, n+1):\n",
    "    newRow = []\n",
    "    prevRow = pascal[i-2]\n",
    "    for j in range(0 , i -3):\n",
    "        newRow.append(prevRow[j], prevRow[j+1])\n",
    "    pascal.append(newRow)"
   ]
  },
  {
   "cell_type": "code",
   "execution_count": 71,
   "metadata": {},
   "outputs": [],
   "source": [
    "x = [i for i in range(0,0)]"
   ]
  },
  {
   "cell_type": "code",
   "execution_count": 76,
   "metadata": {},
   "outputs": [
    {
     "name": "stdout",
     "output_type": "stream",
     "text": [
      "0\n"
     ]
    }
   ],
   "source": [
    "newRow = []\n",
    "j = 0\n",
    "i = 3\n",
    "while j <= i - 3:\n",
    "    print(j)\n",
    "    j+=1"
   ]
  },
  {
   "cell_type": "code",
   "execution_count": null,
   "metadata": {},
   "outputs": [],
   "source": [
    "# n = 3 \n",
    "# ()()()  ((()))  (())()  ()(())\n",
    "\n",
    "def generate(n):\n",
    "    "
   ]
  },
  {
   "cell_type": "code",
   "execution_count": null,
   "metadata": {},
   "outputs": [],
   "source": []
  },
  {
   "cell_type": "code",
   "execution_count": 10,
   "metadata": {},
   "outputs": [
    {
     "data": {
      "text/plain": [
       "3"
      ]
     },
     "execution_count": 10,
     "metadata": {},
     "output_type": "execute_result"
    }
   ],
   "source": [
    "import math\n",
    "int(math.log(123,10)) + 1"
   ]
  },
  {
   "cell_type": "code",
   "execution_count": 24,
   "metadata": {},
   "outputs": [],
   "source": [
    "def digits(n):\n",
    "    if n//10 == 0:\n",
    "        return 1\n",
    "    return 1 + digits(n//10) \n",
    "# tc = O(logN)\n",
    "        "
   ]
  },
  {
   "cell_type": "code",
   "execution_count": 25,
   "metadata": {},
   "outputs": [
    {
     "data": {
      "text/plain": [
       "11"
      ]
     },
     "execution_count": 25,
     "metadata": {},
     "output_type": "execute_result"
    }
   ],
   "source": [
    "digits(12423123123)"
   ]
  },
  {
   "cell_type": "code",
   "execution_count": 67,
   "metadata": {},
   "outputs": [],
   "source": [
    "def isLucky(n) -> int:\n",
    "    \n",
    "    # remove 2nd places\n",
    "    nums = [i for i in range(1,n+1,2)]\n",
    "    \n",
    "    # remove 3rd places\n",
    "    for i in range(2,len(nums),3):\n",
    "        nums[i] = -1\n",
    "\n",
    "    print(nums)\n",
    "    return True if n in nums else False\n",
    "        "
   ]
  },
  {
   "cell_type": "code",
   "execution_count": 68,
   "metadata": {},
   "outputs": [
    {
     "data": {
      "text/plain": [
       "[1, 3, 5, 7, 9, 11, 13, 15, 17, 19]"
      ]
     },
     "execution_count": 68,
     "metadata": {},
     "output_type": "execute_result"
    }
   ],
   "source": [
    "nums = [i for i in range(1,21,2)]\n",
    "nums\n"
   ]
  },
  {
   "cell_type": "code",
   "execution_count": 69,
   "metadata": {},
   "outputs": [
    {
     "data": {
      "text/plain": [
       "[2, 5, 8]"
      ]
     },
     "execution_count": 69,
     "metadata": {},
     "output_type": "execute_result"
    }
   ],
   "source": [
    "[i for i in range(2,len(nums),3)]"
   ]
  },
  {
   "cell_type": "code",
   "execution_count": 70,
   "metadata": {},
   "outputs": [
    {
     "name": "stdout",
     "output_type": "stream",
     "text": [
      "[1, 3, -1, 7, 9, -1, 13, 15, -1, 19]\n"
     ]
    },
    {
     "data": {
      "text/plain": [
       "True"
      ]
     },
     "execution_count": 70,
     "metadata": {},
     "output_type": "execute_result"
    }
   ],
   "source": [
    "isLucky(19)"
   ]
  },
  {
   "cell_type": "code",
   "execution_count": 77,
   "metadata": {},
   "outputs": [],
   "source": [
    "def swap(a, b) -> int:\n",
    "    a = int(bin(a)[2:])\n",
    "    b = int(bin(b)[2:])\n",
    "    print(a,b)\n",
    "    a = a ^ b \n",
    "    b = a ^ b\n",
    "    a = a ^ b\n",
    "    return a, b"
   ]
  },
  {
   "cell_type": "code",
   "execution_count": 78,
   "metadata": {},
   "outputs": [
    {
     "name": "stdout",
     "output_type": "stream",
     "text": [
      "100 110\n"
     ]
    },
    {
     "data": {
      "text/plain": [
       "(110, 100)"
      ]
     },
     "execution_count": 78,
     "metadata": {},
     "output_type": "execute_result"
    }
   ],
   "source": [
    "swap(4,6)"
   ]
  },
  {
   "cell_type": "code",
   "execution_count": 79,
   "metadata": {},
   "outputs": [],
   "source": [
    "def flipBits(a,b) -> int:\n",
    "    a = int(bin(a)[2:])\n",
    "    b = int(bin(b)[2:])\n",
    "    diff = list(a ^ b)\n",
    "\n",
    "    A = list(a)\n",
    "    B = list(b)\n",
    "    for i in range(len(diff)):\n",
    "        if diff[i] == 0:\n",
    "          1 if x == y else 0      \n",
    "            "
   ]
  },
  {
   "cell_type": "code",
   "execution_count": 81,
   "metadata": {},
   "outputs": [
    {
     "data": {
      "text/plain": [
       "[0, 1, 2, 3, 4, 5, 6, 7, 8, 9]"
      ]
     },
     "execution_count": 81,
     "metadata": {},
     "output_type": "execute_result"
    }
   ],
   "source": [
    "nums = [i for i in range(10)]\n",
    "nums"
   ]
  },
  {
   "cell_type": "code",
   "execution_count": 82,
   "metadata": {},
   "outputs": [],
   "source": [
    "nums = nums[0:4] + [100] + nums[4:]"
   ]
  },
  {
   "cell_type": "code",
   "execution_count": 83,
   "metadata": {},
   "outputs": [
    {
     "data": {
      "text/plain": [
       "[0, 1, 2, 3, 100, 4, 5, 6, 7, 8, 9]"
      ]
     },
     "execution_count": 83,
     "metadata": {},
     "output_type": "execute_result"
    }
   ],
   "source": [
    "nums"
   ]
  },
  {
   "cell_type": "code",
   "execution_count": 89,
   "metadata": {},
   "outputs": [],
   "source": [
    "\"\"\"\n",
    "Given an array and a size n find the max possible len of sub array \n",
    "such that each element in the sub array follows either \n",
    "odd, even, odd\n",
    "or \n",
    "even, odd, even\n",
    "\n",
    "\"\"\"\n",
    "\n",
    "def findMaxLen(n, arr):\n",
    "    currLen, maxLen = 1, 1\n",
    "    for i in range(1,n):\n",
    "        if (arr[i-1] % 2 == 0 and arr[i] %2!=0) or ( arr[i-1] %2 != 0 and arr[i] %2 == 0):\n",
    "            # increase window size\n",
    "            currLen += 1\n",
    "            # find the max\n",
    "            maxLen = max(currLen, maxLen)\n",
    "        else:\n",
    "            currLen = 1\n",
    "\n",
    "    return maxLen \n",
    "\n",
    "\n",
    "\"\"\"\n",
    "start with a window of size 2,\n",
    "if odd, even or even,odd:\n",
    "increase size of window\n",
    "\n",
    "\n",
    "\n",
    "\"\"\"\n",
    "\n",
    "        "
   ]
  },
  {
   "cell_type": "code",
   "execution_count": 95,
   "metadata": {},
   "outputs": [
    {
     "data": {
      "text/plain": [
       "5"
      ]
     },
     "execution_count": 95,
     "metadata": {},
     "output_type": "execute_result"
    }
   ],
   "source": [
    "findMaxLen(8,[10,12,12,15,14,17,18,20])"
   ]
  },
  {
   "cell_type": "code",
   "execution_count": 8,
   "metadata": {},
   "outputs": [],
   "source": [
    "def findMaxSubArray(arr, k) -> int:\n",
    "    subArrays = {}\n",
    "    n = len(arr)\n",
    "    for i in range(n):\n",
    "        for j in range(1,n):\n",
    "            if tuple(arr[i:j+1]) in subArrays:\n",
    "                subArrays[tuple(arr[i:j+1])][1] += 1\n",
    "            subArrays[tuple(arr[i:j+1])] = [sum(arr[i:j+1]), 1]\n",
    "    print(subArrays)\n",
    "\n",
    "    count = 0\n",
    "    \n",
    "    for key, value in subArrays.items():\n",
    "        if value[1] == k:\n",
    "            print(value[1])\n",
    "            count += 1\n",
    "    return count\n",
    "        "
   ]
  },
  {
   "cell_type": "code",
   "execution_count": 9,
   "metadata": {},
   "outputs": [
    {
     "name": "stdout",
     "output_type": "stream",
     "text": [
      "{(1, 2): [3, 1], (1, 2, 1): [4, 1], (1, 2, 1, 2): [6, 1], (1, 2, 1, 2, 1): [7, 1], (2,): [2, 1], (2, 1): [3, 1], (2, 1, 2): [5, 1], (2, 1, 2, 1): [6, 1], (): [0, 1], (1,): [1, 1]}\n"
     ]
    },
    {
     "data": {
      "text/plain": [
       "0"
      ]
     },
     "execution_count": 9,
     "metadata": {},
     "output_type": "execute_result"
    }
   ],
   "source": [
    "findMaxSubArray([1,2,1,2,1], 3)"
   ]
  },
  {
   "cell_type": "code",
   "execution_count": 62,
   "metadata": {},
   "outputs": [],
   "source": [
    "# return the rightmost different bit among two numbers\n",
    "\n",
    "def differentBit(a, b) -> int:\n",
    "    a = bin(a)[2:]\n",
    "    b = bin(b)[2:]\n",
    "    print(a,b)\n",
    "    n = len(a) \n",
    "    for i in range(n-1,-1,-1):\n",
    "        if int(a[i]) ^ int(b[i]) == 0:\n",
    "            return n - i + 1\n",
    "    return -1"
   ]
  },
  {
   "cell_type": "code",
   "execution_count": 63,
   "metadata": {},
   "outputs": [
    {
     "name": "stdout",
     "output_type": "stream",
     "text": [
      "1001 1010\n"
     ]
    },
    {
     "data": {
      "text/plain": [
       "4"
      ]
     },
     "execution_count": 63,
     "metadata": {},
     "output_type": "execute_result"
    }
   ],
   "source": [
    "differentBit(9, 10)"
   ]
  },
  {
   "cell_type": "code",
   "execution_count": 25,
   "metadata": {},
   "outputs": [],
   "source": [
    "def maxSubArray(nums):\n",
    "    currSum = nums[0]\n",
    "    maxSum = 0\n",
    "    for num in nums[1:]:\n",
    "        if currSum + num >=num:\n",
    "            currSum += num\n",
    "            maxSum = max(currSum, maxSum)\n",
    "        else: \n",
    "            currSum = num\n",
    "    \n",
    "    return maxSum\n"
   ]
  },
  {
   "cell_type": "code",
   "execution_count": 26,
   "metadata": {},
   "outputs": [
    {
     "data": {
      "text/plain": [
       "6"
      ]
     },
     "execution_count": 26,
     "metadata": {},
     "output_type": "execute_result"
    }
   ],
   "source": [
    "maxSubArray([-2,1,-3,4,-1,2,1,-5,4])"
   ]
  },
  {
   "cell_type": "code",
   "execution_count": 29,
   "metadata": {},
   "outputs": [],
   "source": [
    "def containsDuplicate(nums):\n",
    "    return not list(set(nums)) == nums"
   ]
  },
  {
   "cell_type": "code",
   "execution_count": 30,
   "metadata": {},
   "outputs": [
    {
     "data": {
      "text/plain": [
       "True"
      ]
     },
     "execution_count": 30,
     "metadata": {},
     "output_type": "execute_result"
    }
   ],
   "source": [
    "containsDuplicate([1,1,2,3,4])"
   ]
  },
  {
   "cell_type": "code",
   "execution_count": 35,
   "metadata": {},
   "outputs": [],
   "source": [
    "\"\"\"\n",
    "chocolate distribution problem (refer GFG)\n",
    "\n",
    "given an array of n packets (each packets having a certain number of chocolates)\n",
    "distribute the number of packets among m students such that:\n",
    "1 - each student receives one packet\n",
    "2 - the difference bw the packet with max chocolates and the packet with min chocolates must be minimum\n",
    "\n",
    "eg: \n",
    "input = {7, 3, 2, 4, 9, 12, 56} , m = 3 \n",
    "Output: Minimum Difference is 2\n",
    "pick 2,3,4 \n",
    "4 - 2 = 2\n",
    "\"\"\"\n",
    "\n",
    "\n",
    "def distribute(packets, m) -> int:\n",
    "    minValue = float(\"inf\")\n",
    "    packets.sort()\n",
    "    for i in range(len(packets) - m):\n",
    "        minValue = min(minValue, packets[i+m - 1] - packets[i])\n",
    "    return minValue"
   ]
  },
  {
   "cell_type": "code",
   "execution_count": 38,
   "metadata": {},
   "outputs": [
    {
     "data": {
      "text/plain": [
       "6"
      ]
     },
     "execution_count": 38,
     "metadata": {},
     "output_type": "execute_result"
    }
   ],
   "source": [
    "distribute([3, 4, 1, 9, 56, 7, 9, 12], 5)"
   ]
  },
  {
   "cell_type": "code",
   "execution_count": null,
   "metadata": {},
   "outputs": [],
   "source": []
  },
  {
   "cell_type": "code",
   "execution_count": null,
   "metadata": {},
   "outputs": [],
   "source": []
  }
 ],
 "metadata": {
  "kernelspec": {
   "display_name": "Python 3 (ipykernel)",
   "language": "python",
   "name": "python3"
  },
  "language_info": {
   "codemirror_mode": {
    "name": "ipython",
    "version": 3
   },
   "file_extension": ".py",
   "mimetype": "text/x-python",
   "name": "python",
   "nbconvert_exporter": "python",
   "pygments_lexer": "ipython3",
   "version": "3.11.7"
  }
 },
 "nbformat": 4,
 "nbformat_minor": 4
}
