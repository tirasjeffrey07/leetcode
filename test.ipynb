{
 "cells": [
  {
   "cell_type": "code",
   "execution_count": 1,
   "metadata": {},
   "outputs": [
    {
     "data": {
      "text/plain": [
       "[1, 1, 2, 2, 2, 3, 3, 3, 3, 4, 4, 5, 5, 5, 6, 7]"
      ]
     },
     "execution_count": 1,
     "metadata": {},
     "output_type": "execute_result"
    }
   ],
   "source": [
    "nums = [1,1,2,2,2,3,3,3,3,4,4,5,5,5,6,7]\n",
    "nums"
   ]
  },
  {
   "cell_type": "code",
   "execution_count": 2,
   "metadata": {},
   "outputs": [
    {
     "ename": "KeyboardInterrupt",
     "evalue": "",
     "output_type": "error",
     "traceback": [
      "\u001b[1;31m---------------------------------------------------------------------------\u001b[0m",
      "\u001b[1;31mKeyboardInterrupt\u001b[0m                         Traceback (most recent call last)",
      "Cell \u001b[1;32mIn[2], line 1\u001b[0m\n\u001b[1;32m----> 1\u001b[0m \u001b[38;5;28;01mwhile\u001b[39;00m \u001b[38;5;28;01mTrue\u001b[39;00m:\n\u001b[0;32m      2\u001b[0m     \u001b[38;5;28;01mpass\u001b[39;00m\n",
      "\u001b[1;31mKeyboardInterrupt\u001b[0m: "
     ]
    }
   ],
   "source": [
    "while True:\n",
    "    pass"
   ]
  },
  {
   "cell_type": "code",
   "execution_count": 3,
   "metadata": {},
   "outputs": [
    {
     "data": {
      "text/plain": [
       "Counter({3: 4, 2: 3, 5: 3, 1: 2, 4: 2, 6: 1, 7: 1})"
      ]
     },
     "execution_count": 3,
     "metadata": {},
     "output_type": "execute_result"
    }
   ],
   "source": [
    "from collections import Counter\n",
    "\n",
    "newNums = Counter(nums)\n",
    "newNums"
   ]
  },
  {
   "cell_type": "code",
   "execution_count": 4,
   "metadata": {},
   "outputs": [
    {
     "data": {
      "text/plain": [
       "14"
      ]
     },
     "execution_count": 4,
     "metadata": {},
     "output_type": "execute_result"
    }
   ],
   "source": [
    "number = 0\n",
    "\n",
    "for k, v in newNums.items():\n",
    "    if v > 1:\n",
    "        number += (v * (v - 1)) // 2\n",
    "number"
   ]
  },
  {
   "cell_type": "code",
   "execution_count": 5,
   "metadata": {},
   "outputs": [],
   "source": [
    "res = []\n",
    "n = 6\n",
    "for i in range(n-2):\n",
    "    res.append([0] * (n-2))"
   ]
  },
  {
   "cell_type": "code",
   "execution_count": 6,
   "metadata": {},
   "outputs": [
    {
     "data": {
      "text/plain": [
       "[[0, 0, 0, 0], [0, 0, 0, 0], [0, 0, 0, 0], [0, 0, 0, 0]]"
      ]
     },
     "execution_count": 6,
     "metadata": {},
     "output_type": "execute_result"
    }
   ],
   "source": [
    "res"
   ]
  },
  {
   "cell_type": "code",
   "execution_count": 7,
   "metadata": {},
   "outputs": [],
   "source": [
    "def largestLocal(grid: list[list[int]]) -> list[list[int]]:\n",
    "        n = len(grid[0])\n",
    "        res = [[0] * (n-2) for _ in range(n-2)]\n",
    "        \n",
    "        def findMax(i:int, j:int,  mat: list[list[int]]) -> int:\n",
    "            maxVal = 0\n",
    "            for r in range(i, i+3):\n",
    "                print(\"Row:\", r)\n",
    "                for c in range(j, j+3):\n",
    "                    print(\"Column: {}, Element: {}, Max: {}\".format( c, grid[r][c], maxVal))\n",
    "                    maxVal = max(maxVal, grid[r][c])\n",
    "            return maxVal\n",
    "        \n",
    "        for i in range(0, n-2):\n",
    "            for j in range(0, n-2): \n",
    "                res[i][j] = findMax(i, j, grid)\n",
    "\n",
    "        return res"
   ]
  },
  {
   "cell_type": "code",
   "execution_count": 8,
   "metadata": {},
   "outputs": [
    {
     "name": "stdout",
     "output_type": "stream",
     "text": [
      "Row: 0\n",
      "Column: 0, Element: 9, Max: 0\n",
      "Column: 1, Element: 9, Max: 9\n",
      "Column: 2, Element: 8, Max: 9\n",
      "Row: 1\n",
      "Column: 0, Element: 5, Max: 9\n",
      "Column: 1, Element: 6, Max: 9\n",
      "Column: 2, Element: 2, Max: 9\n",
      "Row: 2\n",
      "Column: 0, Element: 8, Max: 9\n",
      "Column: 1, Element: 2, Max: 9\n",
      "Column: 2, Element: 6, Max: 9\n",
      "Row: 0\n",
      "Column: 1, Element: 9, Max: 0\n",
      "Column: 2, Element: 8, Max: 9\n",
      "Column: 3, Element: 1, Max: 9\n",
      "Row: 1\n",
      "Column: 1, Element: 6, Max: 9\n",
      "Column: 2, Element: 2, Max: 9\n",
      "Column: 3, Element: 6, Max: 9\n",
      "Row: 2\n",
      "Column: 1, Element: 2, Max: 9\n",
      "Column: 2, Element: 6, Max: 9\n",
      "Column: 3, Element: 4, Max: 9\n",
      "Row: 1\n",
      "Column: 0, Element: 5, Max: 0\n",
      "Column: 1, Element: 6, Max: 5\n",
      "Column: 2, Element: 2, Max: 6\n",
      "Row: 2\n",
      "Column: 0, Element: 8, Max: 6\n",
      "Column: 1, Element: 2, Max: 8\n",
      "Column: 2, Element: 6, Max: 8\n",
      "Row: 3\n",
      "Column: 0, Element: 6, Max: 8\n",
      "Column: 1, Element: 2, Max: 8\n",
      "Column: 2, Element: 2, Max: 8\n",
      "Row: 1\n",
      "Column: 1, Element: 6, Max: 0\n",
      "Column: 2, Element: 2, Max: 6\n",
      "Column: 3, Element: 6, Max: 6\n",
      "Row: 2\n",
      "Column: 1, Element: 2, Max: 6\n",
      "Column: 2, Element: 6, Max: 6\n",
      "Column: 3, Element: 4, Max: 6\n",
      "Row: 3\n",
      "Column: 1, Element: 2, Max: 6\n",
      "Column: 2, Element: 2, Max: 6\n",
      "Column: 3, Element: 2, Max: 6\n"
     ]
    },
    {
     "data": {
      "text/plain": [
       "[[9, 9], [8, 6]]"
      ]
     },
     "execution_count": 8,
     "metadata": {},
     "output_type": "execute_result"
    }
   ],
   "source": [
    "largestLocal([[9,9,8,1],[5,6,2,6],[8,2,6,4],[6,2,2,2]])"
   ]
  },
  {
   "cell_type": "code",
   "execution_count": 14,
   "metadata": {},
   "outputs": [],
   "source": [
    "def addBinary(a: str, b: str) -> str:\n",
    "        \n",
    "        if a == \"0\":\n",
    "            return b\n",
    "        if b == \"0\":\n",
    "            return a\n",
    "\n",
    "        sum = \"\"\n",
    "        i = 0\n",
    "        carry = 0\n",
    "        \n",
    "        # 1 1 0 1\n",
    "        #   1 1 1\n",
    "\n",
    "        diff = max(len(b), len(a)) - min(len(a), len(b))\n",
    "        \n",
    "        if len(b) < len(a):\n",
    "            b = str(\"0\" * diff) +  b\n",
    "        elif len(a) < len(b):\n",
    "            a = str(\"0\" * diff) + a\n",
    "\n",
    "        a = a[::-1]\n",
    "        b = b[::-1]\n",
    "        \n",
    "        while i < len(a):\n",
    "            # 1 + 1\n",
    "            if int(a[i]) + int(b[i]) == 2:\n",
    "                \n",
    "                # with carry\n",
    "                if carry == 1:\n",
    "                    sum += '1'     \n",
    "                \n",
    "                # without carry\n",
    "                else:\n",
    "                    sum += '0'               \n",
    "                # updating next carry\n",
    "                carry = 1\n",
    "            \n",
    "            # 0 + 1\n",
    "            if int(a[i]) + int(b[i]) == 1:\n",
    "                if carry == 1:\n",
    "                    sum += '0'\n",
    "                    carry = 1\n",
    "                else:\n",
    "                    sum.append(1)\n",
    "                    carry = 0\n",
    "            # 0 + 0\n",
    "            if int(a[i]) + int(b[i]) == 0:\n",
    "                if carry == 1:\n",
    "                    sum += '1'\n",
    "                else:\n",
    "                    sum += '0'\n",
    "            i += 1\n",
    "\n",
    "        if carry == 1:\n",
    "            sum += '1'\n",
    "\n",
    "        return sum[::-1]"
   ]
  },
  {
   "cell_type": "code",
   "execution_count": 15,
   "metadata": {},
   "outputs": [
    {
     "data": {
      "text/plain": [
       "'100100'"
      ]
     },
     "execution_count": 15,
     "metadata": {},
     "output_type": "execute_result"
    }
   ],
   "source": [
    "addBinary(\"11101\",\"111\")"
   ]
  },
  {
   "cell_type": "code",
   "execution_count": 24,
   "metadata": {},
   "outputs": [],
   "source": [
    "def addBinaryShortcut(a:str, b:str) -> str:\n",
    "    print(int(a), int(b))\n",
    "    return bin(int(a,2) + int(b,2))[2:]"
   ]
  },
  {
   "cell_type": "code",
   "execution_count": 25,
   "metadata": {},
   "outputs": [
    {
     "name": "stdout",
     "output_type": "stream",
     "text": [
      "11101 111\n"
     ]
    },
    {
     "data": {
      "text/plain": [
       "'100100'"
      ]
     },
     "execution_count": 25,
     "metadata": {},
     "output_type": "execute_result"
    }
   ],
   "source": [
    "addBinaryShortcut(\"11101\", \"111\")"
   ]
  },
  {
   "cell_type": "code",
   "execution_count": 37,
   "metadata": {},
   "outputs": [],
   "source": [
    "def match(s) -> bool:\n",
    "    stack = []\n",
    "    \n",
    "    for char in s:\n",
    "        if char == \"{\":\n",
    "            stack.append(\"}\")\n",
    "        elif char == \"[\":\n",
    "            stack.append(\"]\")\n",
    "        elif char == \"(\":\n",
    "            stack.append(\")\")\n",
    "        \n",
    "        elif not stack or stack.pop() == char:\n",
    "            return False\n",
    "            \n",
    "    if len(stack) > 0:\n",
    "        return False\n",
    "    return True"
   ]
  },
  {
   "cell_type": "code",
   "execution_count": 38,
   "metadata": {},
   "outputs": [
    {
     "data": {
      "text/plain": [
       "False"
      ]
     },
     "execution_count": 38,
     "metadata": {},
     "output_type": "execute_result"
    }
   ],
   "source": [
    "match(\"(])\")"
   ]
  },
  {
   "cell_type": "code",
   "execution_count": 51,
   "metadata": {},
   "outputs": [
    {
     "name": "stdout",
     "output_type": "stream",
     "text": [
      "False\n",
      "False\n",
      "False\n",
      "False\n"
     ]
    },
    {
     "data": {
      "text/plain": [
       "[[...], [...], [...], [...]]"
      ]
     },
     "execution_count": 51,
     "metadata": {},
     "output_type": "execute_result"
    }
   ],
   "source": [
    "check = dict({\n",
    "            \")\" : \"(\",\n",
    "            \"}\" : \"{\",\n",
    "            \"]\" : \"[\"\n",
    "        }) \n",
    "\n",
    "s = \"{}()[]{}\"\n",
    "stack = []\n",
    "for char in s:\n",
    "    if char not in check:\n",
    "        stack.append(stack)\n",
    "    elif stack:\n",
    "        if check[char] != stack[-1]:\n",
    "            print(False)\n",
    "stack"
   ]
  },
  {
   "cell_type": "code",
   "execution_count": 24,
   "metadata": {},
   "outputs": [],
   "source": [
    "def isSameTree( p, q) -> bool:\n",
    "        \n",
    "    # firstTree = []\n",
    "    # secondTree = [] \n",
    "    \n",
    "    def inOrder(node, arr = []):\n",
    "        if not node:\n",
    "            arr.append(None)\n",
    "            return\n",
    "    \n",
    "        inOrder(node.left)\n",
    "        arr.append(node.val)\n",
    "        inOrder(node.right)\n",
    "        \n",
    "        return arr\n",
    "\n",
    "    print(\"Tree 1:\\n\" + str(inOrder(p)) + \"\\nTree2\\n\" + str(inOrder(q)))\n",
    "        "
   ]
  },
  {
   "cell_type": "code",
   "execution_count": 26,
   "metadata": {},
   "outputs": [
    {
     "name": "stdout",
     "output_type": "stream",
     "text": [
      "Tree 1:\n",
      "[None, 17, None, 13, None, 18, None, 12, None, 15, None, 14, None, 16, None]\n",
      "Tree2\n",
      "[None, 17, None, 13, None, 18, None, 12, None, 15, None, 14, None, 16, None, None, 23, None, 21, None, 24, None, 20, None, 25, None, 22, None, 26, None]\n"
     ]
    }
   ],
   "source": [
    "class TreeNode:\n",
    "    def __init__(self, val=0, left=None, right=None):\n",
    "        self.val = val\n",
    "        self.left = left\n",
    "        self.right = right\n",
    "\n",
    "node1 = TreeNode(val = 12)\n",
    "node2 = TreeNode(val = 13)\n",
    "node3 = TreeNode(val = 14)\n",
    "node4 = TreeNode(val = 15)\n",
    "node5 = TreeNode(val = 16)\n",
    "node6 = TreeNode(val = 17)\n",
    "\n",
    "\n",
    "node7 = TreeNode(val = 20)\n",
    "node8 = TreeNode(val = 21)\n",
    "node9 = TreeNode(val = 22)\n",
    "node10 = TreeNode(val = 23)\n",
    "node11 = TreeNode(val = 24)\n",
    "node12 = TreeNode(val = 25)\n",
    "\n",
    "\n",
    "node1.left = node2\n",
    "node1.right = node3\n",
    "node3.left = node4\n",
    "node3.right = node5\n",
    "node2.left = node6\n",
    "node2.right = TreeNode(18)\n",
    "\n",
    "tree = node1\n",
    "\n",
    "node7.left = node8\n",
    "node7.right= node9\n",
    "node8.left = node10\n",
    "node8.right = node11\n",
    "node9.left=node12\n",
    "node9.right = TreeNode(26)\n",
    "\n",
    "tree2 = node7\n",
    "\n",
    "\n",
    "isSameTree(tree, tree2)"
   ]
  },
  {
   "cell_type": "code",
   "execution_count": 2,
   "metadata": {},
   "outputs": [
    {
     "data": {
      "text/plain": [
       "11"
      ]
     },
     "execution_count": 2,
     "metadata": {},
     "output_type": "execute_result"
    }
   ],
   "source": [
    "arr = [1,2,3,4,6,7,7,567567,765,56,634,34,34]\n",
    "arr.index(34)"
   ]
  },
  {
   "cell_type": "code",
   "execution_count": 8,
   "metadata": {},
   "outputs": [
    {
     "data": {
      "text/plain": [
       "False"
      ]
     },
     "execution_count": 8,
     "metadata": {},
     "output_type": "execute_result"
    }
   ],
   "source": [
    "arr = [7, 7, 7, 7, 12, 7, 7] \n",
    "i, k = 4, 3\n",
    "arr[i:i+k] == [arr[i]] * k\n"
   ]
  },
  {
   "cell_type": "code",
   "execution_count": null,
   "metadata": {},
   "outputs": [],
   "source": [
    "for i in range(len(arr) - k):\n",
    "    if arr[i:i+k] == [arr[i]] * k: \n",
    "    "
   ]
  },
  {
   "cell_type": "code",
   "execution_count": 16,
   "metadata": {},
   "outputs": [],
   "source": [
    "test = [[] for _ in range(10)]\n",
    "# two = test * 2 "
   ]
  },
  {
   "cell_type": "code",
   "execution_count": 17,
   "metadata": {},
   "outputs": [
    {
     "data": {
      "text/plain": [
       "[[], [], [], [], [], [], [], [], [], []]"
      ]
     },
     "execution_count": 17,
     "metadata": {},
     "output_type": "execute_result"
    }
   ],
   "source": [
    "test"
   ]
  },
  {
   "cell_type": "code",
   "execution_count": 18,
   "metadata": {},
   "outputs": [],
   "source": [
    "test[0].append(1)"
   ]
  },
  {
   "cell_type": "code",
   "execution_count": 19,
   "metadata": {},
   "outputs": [
    {
     "data": {
      "text/plain": [
       "[[1], [], [], [], [], [], [], [], [], []]"
      ]
     },
     "execution_count": 19,
     "metadata": {},
     "output_type": "execute_result"
    }
   ],
   "source": [
    "test"
   ]
  },
  {
   "cell_type": "code",
   "execution_count": 1,
   "metadata": {},
   "outputs": [
    {
     "data": {
      "text/plain": [
       "1"
      ]
     },
     "execution_count": 1,
     "metadata": {},
     "output_type": "execute_result"
    }
   ],
   "source": [
    "4 // 3"
   ]
  },
  {
   "cell_type": "code",
   "execution_count": 2,
   "metadata": {},
   "outputs": [
    {
     "data": {
      "text/plain": [
       "1"
      ]
     },
     "execution_count": 2,
     "metadata": {},
     "output_type": "execute_result"
    }
   ],
   "source": [
    "5 // 3"
   ]
  },
  {
   "cell_type": "code",
   "execution_count": 4,
   "metadata": {},
   "outputs": [
    {
     "data": {
      "text/plain": [
       "2"
      ]
     },
     "execution_count": 4,
     "metadata": {},
     "output_type": "execute_result"
    }
   ],
   "source": [
    "6 // 3"
   ]
  },
  {
   "cell_type": "code",
   "execution_count": 5,
   "metadata": {},
   "outputs": [],
   "source": [
    "arr = [7, 7, 7, 7, 13, 11, 12, 7]\n",
    "k = 3\n",
    "m = 2"
   ]
  },
  {
   "cell_type": "code",
   "execution_count": 6,
   "metadata": {},
   "outputs": [],
   "source": [
    "start, end = min(arr), max(arr)\n"
   ]
  },
  {
   "cell_type": "code",
   "execution_count": 63,
   "metadata": {},
   "outputs": [
    {
     "ename": "SyntaxError",
     "evalue": "'return' outside function (1870419615.py, line 27)",
     "output_type": "error",
     "traceback": [
      "\u001b[1;36m  Cell \u001b[1;32mIn[63], line 27\u001b[1;36m\u001b[0m\n\u001b[1;33m    return mid\u001b[0m\n\u001b[1;37m    ^\u001b[0m\n\u001b[1;31mSyntaxError\u001b[0m\u001b[1;31m:\u001b[0m 'return' outside function\n"
     ]
    }
   ],
   "source": [
    "\n",
    "\n",
    "def possible(day) -> bool:\n",
    "    for bloom in range(0, len(arr)):\n",
    "        # if bloomDay <= day \n",
    "        if arr[bloom] <= day:\n",
    "            adjacent += 1\n",
    "        else: \n",
    "            # before setting count = 0 \n",
    "            # check if bouquet can be formed from the most recent number of adjacent flowers\n",
    "            if adjacent // k == 1:\n",
    "                nob += 1\n",
    "            \n",
    "            adjacent = 0\n",
    "            \n",
    "    # after traversing the entire array, you may have a count that is greater >= k\n",
    "    nob += (adjacent // k)\n",
    "\n",
    "    if nob >= m:\n",
    "        return True\n",
    "    return False\n",
    "\n",
    "low, high = min(arr), max(arr)\n",
    "while low <= high:\n",
    "    # check the center day\n",
    "    mid = (low+high) // 2\n",
    "    \n",
    "    if possible(mid):\n",
    "        # since 'mid' day is possible, check if lesser days are possible\n",
    "        high = mid - 1    \n",
    "    \n",
    "    else:\n",
    "        # if day x cannot make 'm' bouquets,\n",
    "        # day x-1, x-2, x-3 ...1 will not have enough flowers to make 'm'  \n",
    "        low = mid + 1\n",
    "        # so simply search for days with more flowers bloomed\n",
    "\n",
    "return low"
   ]
  },
  {
   "cell_type": "code",
   "execution_count": 62,
   "metadata": {},
   "outputs": [
    {
     "data": {
      "text/plain": [
       "2"
      ]
     },
     "execution_count": 62,
     "metadata": {},
     "output_type": "execute_result"
    }
   ],
   "source": [
    "nob"
   ]
  },
  {
   "cell_type": "code",
   "execution_count": 41,
   "metadata": {},
   "outputs": [
    {
     "data": {
      "text/plain": [
       "True"
      ]
     },
     "execution_count": 41,
     "metadata": {},
     "output_type": "execute_result"
    }
   ],
   "source": [
    "3//3 >= 1"
   ]
  },
  {
   "cell_type": "code",
   "execution_count": null,
   "metadata": {},
   "outputs": [],
   "source": []
  }
 ],
 "metadata": {
  "kernelspec": {
   "display_name": "Python 3 (ipykernel)",
   "language": "python",
   "name": "python3"
  },
  "language_info": {
   "codemirror_mode": {
    "name": "ipython",
    "version": 3
   },
   "file_extension": ".py",
   "mimetype": "text/x-python",
   "name": "python",
   "nbconvert_exporter": "python",
   "pygments_lexer": "ipython3",
   "version": "3.11.7"
  }
 },
 "nbformat": 4,
 "nbformat_minor": 4
}
